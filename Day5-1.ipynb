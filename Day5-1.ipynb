{
 "cells": [
  {
   "cell_type": "code",
   "execution_count": null,
   "metadata": {
    "dotnet_interactive": {
     "language": "csharp"
    }
   },
   "outputs": [],
   "source": [
    "using System;\n",
    "using System.IO;\n",
    "using System.Linq;\n",
    "using System.Text.RegularExpressions;\n",
    "\n",
    "var data = File.ReadAllText(\"inputs/input_day5.txt\");"
   ]
  },
  {
   "cell_type": "code",
   "execution_count": null,
   "metadata": {
    "dotnet_interactive": {
     "language": "csharp"
    }
   },
   "outputs": [],
   "source": [
    "var data = \n",
    "@\"0,9 -> 5,9\n",
    "8,0 -> 0,8\n",
    "9,4 -> 3,4\n",
    "2,2 -> 2,1\n",
    "7,0 -> 7,4\n",
    "6,4 -> 2,0\n",
    "0,9 -> 2,9\n",
    "3,4 -> 1,4\n",
    "0,0 -> 8,8\n",
    "5,5 -> 8,2\n",
    "\";"
   ]
  },
  {
   "cell_type": "code",
   "execution_count": null,
   "metadata": {
    "dotnet_interactive": {
     "language": "csharp"
    }
   },
   "outputs": [],
   "source": [
    "record class Line(int x1, int y1, int x2, int y2);"
   ]
  },
  {
   "cell_type": "code",
   "execution_count": null,
   "metadata": {
    "dotnet_interactive": {
     "language": "csharp"
    }
   },
   "outputs": [
    {
     "name": "stdout",
     "output_type": "stream",
     "text": [
      "Line { x1 = 0, y1 = 9, x2 = 5, y2 = 9 }\r\n",
      "Line { x1 = 8, y1 = 0, x2 = 0, y2 = 8 }\r\n",
      "Line { x1 = 9, y1 = 4, x2 = 3, y2 = 4 }\r\n",
      "Line { x1 = 2, y1 = 2, x2 = 2, y2 = 1 }\r\n",
      "Line { x1 = 7, y1 = 0, x2 = 7, y2 = 4 }\r\n",
      "Line { x1 = 6, y1 = 4, x2 = 2, y2 = 0 }\r\n",
      "Line { x1 = 0, y1 = 9, x2 = 2, y2 = 9 }\r\n",
      "Line { x1 = 3, y1 = 4, x2 = 1, y2 = 4 }\r\n",
      "Line { x1 = 0, y1 = 0, x2 = 8, y2 = 8 }\r\n",
      "Line { x1 = 5, y1 = 5, x2 = 8, y2 = 2 }\r\n",
      "2\r\n",
      "0000000100\r\n",
      "0000000100\r\n",
      "0010000100\r\n",
      "0000000100\r\n",
      "0011111111\r\n",
      "0000000000\r\n",
      "0000000000\r\n",
      "0000000000\r\n",
      "0000000000\r\n",
      "2211100000\r\n"
     ]
    }
   ],
   "source": [
    "var matcher = new Regex(@\"^(\\d+),(\\d+) -> (\\d+),(\\d+)$\", RegexOptions.Compiled | RegexOptions.Multiline);\n",
    "\n",
    "var grid = new List<int>(Enumerable.Repeat(0, 100));\n",
    "\n",
    "using(var reader = new StringReader(data))\n",
    "{\n",
    "    string line;\n",
    "\n",
    "    while((line = reader.ReadLine()) != null)\n",
    "    {\n",
    "        var match = matcher.Match(line);\n",
    "\n",
    "        if(!match.Success)\n",
    "        {\n",
    "            continue;\n",
    "        }\n",
    "\n",
    "        var record = new Line(\n",
    "            int.Parse(match.Groups[1].Value),\n",
    "            int.Parse(match.Groups[2].Value),\n",
    "            int.Parse(match.Groups[3].Value),\n",
    "            int.Parse(match.Groups[4].Value)\n",
    "        );\n",
    "\n",
    "        Console.WriteLine(record);\n",
    "\n",
    "        if(record.x1 == record.x2)\n",
    "        {\n",
    "            var step = record.y1 < record.y2\n",
    "                ? 1\n",
    "                : -1;\n",
    "\n",
    "            for(var y = record.y1; y != record.y2 + step; y += step)\n",
    "            {\n",
    "                grid[record.x1 + y * 10] += 1;\n",
    "            }\n",
    "\n",
    "            continue;\n",
    "        }\n",
    "\n",
    "        if(record.y1 == record.y2)\n",
    "        {\n",
    "            var step = record.x1 < record.x2\n",
    "                ? 1\n",
    "                : -1;\n",
    "\n",
    "            for(var x = record.x1; x != record.x2 + step; x += step)\n",
    "            {\n",
    "                grid[x + record.y1 * 10] += 1;\n",
    "            }\n",
    "    \n",
    "            continue;\n",
    "        }\n",
    "    }\n",
    "}\n",
    "\n",
    "Console.WriteLine(grid.Where(_ => _ > 1).Count());\n",
    "\n",
    "for(int y = 0; y < 10; ++y)\n",
    "{\n",
    "    for(int x = 0; x < 10; ++x)\n",
    "    {\n",
    "        Console.Write(grid[x+y*10]);\n",
    "    }\n",
    "    Console.WriteLine();\n",
    "}\n"
   ]
  }
 ],
 "metadata": {
  "kernelspec": {
   "display_name": ".NET (C#)",
   "language": "C#",
   "name": ".net-csharp"
  },
  "language_info": {
   "name": "C#"
  }
 },
 "nbformat": 4,
 "nbformat_minor": 2
}
