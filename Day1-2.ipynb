{
 "cells": [
  {
   "cell_type": "code",
   "execution_count": null,
   "metadata": {
    "dotnet_interactive": {
     "language": "csharp"
    }
   },
   "outputs": [
    {
     "name": "stdout",
     "output_type": "stream",
     "text": [
      "9583\n"
     ]
    }
   ],
   "source": [
    "using System;\n",
    "using System.IO;\n",
    "\n",
    "var datafile = File.ReadAllText(\"inputs/input_day1.txt\");\n",
    "\n",
    "Console.WriteLine(datafile.Length);"
   ]
  },
  {
   "cell_type": "code",
   "execution_count": null,
   "metadata": {
    "dotnet_interactive": {
     "language": "csharp"
    }
   },
   "outputs": [],
   "source": [
    "using System.Linq;\n",
    "\n",
    "var items = \n",
    "    datafile\n",
    "        .Split(\"\\n\")\n",
    "        .Where(_ => !string.IsNullOrWhiteSpace(_))\n",
    "        .Select(_ => int.Parse(_));"
   ]
  },
  {
   "cell_type": "code",
   "execution_count": null,
   "metadata": {
    "dotnet_interactive": {
     "language": "csharp"
    }
   },
   "outputs": [
    {
     "name": "stdout",
     "output_type": "stream",
     "text": [
      "1346\n"
     ]
    }
   ],
   "source": [
    "var trios = \n",
    "    Enumerable\n",
    "        .Range(0, items.Count() - 2)\n",
    "        .Select(index => items.Skip(index).Take(3).Sum())\n",
    "        .Where(_ => _ != 0)\n",
    "        .ToArray();\n",
    "\n",
    "var count = \n",
    "    Enumerable\n",
    "        .Range(1, trios.Count() - 1)\n",
    "        .Where(index => trios[index] > trios[index-1])\n",
    "        .Count();\n",
    "\n",
    "Console.WriteLine(count);"
   ]
  }
 ],
 "metadata": {
  "kernelspec": {
   "display_name": ".NET (C#)",
   "language": "C#",
   "name": ".net-csharp"
  },
  "language_info": {
   "name": "C#"
  }
 },
 "nbformat": 4,
 "nbformat_minor": 2
}
