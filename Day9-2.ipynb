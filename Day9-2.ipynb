{
 "cells": [
  {
   "cell_type": "code",
   "execution_count": null,
   "metadata": {
    "dotnet_interactive": {
     "language": "csharp"
    }
   },
   "outputs": [],
   "source": [
    "using System;\n",
    "using System.Collections.Generic;\n",
    "using System.IO;\n",
    "using System.Linq;\n",
    "\n",
    "var data = File.ReadAllText(\"inputs/input_day9.txt\");"
   ]
  },
  {
   "cell_type": "code",
   "execution_count": null,
   "metadata": {
    "dotnet_interactive": {
     "language": "csharp"
    }
   },
   "outputs": [],
   "source": [
    "// Test data\n",
    "var data_test = \n",
    "@\"2199943210\n",
    "3987894921\n",
    "9856789892\n",
    "8767896789\n",
    "9899965678\";"
   ]
  },
  {
   "cell_type": "code",
   "execution_count": null,
   "metadata": {
    "dotnet_interactive": {
     "language": "csharp"
    }
   },
   "outputs": [
    {
     "name": "stdout",
     "output_type": "stream",
     "text": [
      "100 10000\n"
     ]
    }
   ],
   "source": [
    "var heightMap = new List<int>();\n",
    "\n",
    "var width = 0;\n",
    "\n",
    "using(var reader = new StringReader(data))\n",
    "{\n",
    "    string line;\n",
    "    while((line = reader.ReadLine()) != null)\n",
    "    {\n",
    "        if(width == 0)\n",
    "        {\n",
    "            width = line.Length;\n",
    "        }\n",
    "\n",
    "        heightMap.AddRange(\n",
    "            line\n",
    "                .Select((char ch) => int.Parse(ch.ToString()))\n",
    "        );\n",
    "    }\n",
    "}\n",
    "\n",
    "Console.WriteLine(width + \" \" + heightMap.Count());"
   ]
  },
  {
   "cell_type": "code",
   "execution_count": null,
   "metadata": {
    "dotnet_interactive": {
     "language": "csharp"
    }
   },
   "outputs": [],
   "source": [
    "bool IsLowestPoint(int index)\n",
    "{\n",
    "    var left = index - 1;\n",
    "    var right = index + 1;\n",
    "    var top = index - width;\n",
    "    var bottom = index + width;\n",
    "\n",
    "    var toCompare = new List<int>();\n",
    "\n",
    "    if(index % width > 0)\n",
    "    {\n",
    "        toCompare.Add(heightMap[left]);\n",
    "    }\n",
    "\n",
    "    if(index % width < width - 1)\n",
    "    {\n",
    "        toCompare.Add(heightMap[right]);\n",
    "    }\n",
    "\n",
    "    if(index >= width)\n",
    "    {\n",
    "        toCompare.Add(heightMap[top]);\n",
    "    }\n",
    "\n",
    "    if(index < heightMap.Count() - width)\n",
    "    {\n",
    "        toCompare.Add(heightMap[bottom]);\n",
    "    }\n",
    "\n",
    "    return toCompare.All(_ => _ > heightMap[index]);\n",
    "}"
   ]
  },
  {
   "cell_type": "code",
   "execution_count": null,
   "metadata": {
    "dotnet_interactive": {
     "language": "csharp"
    }
   },
   "outputs": [
    {
     "name": "stdout",
     "output_type": "stream",
     "text": [
      "891684\n"
     ]
    }
   ],
   "source": [
    "var surroundingBasinValues = (int index) =>\n",
    "{\n",
    "    var left = index - 1;\n",
    "    var right = index + 1;\n",
    "    var top = index - width;\n",
    "    var bottom = index + width;\n",
    "\n",
    "    var values = new List<int>();\n",
    "\n",
    "    if(index % width > 0)\n",
    "    {\n",
    "        if(heightMap[left] < 9)\n",
    "        {\n",
    "            values.Add(left);\n",
    "        }\n",
    "    }\n",
    "\n",
    "    if(index % width < width - 1)\n",
    "    {\n",
    "        if(heightMap[right] < 9)\n",
    "        {\n",
    "            values.Add(right);\n",
    "        }\n",
    "    }\n",
    "\n",
    "    if(index >= width)\n",
    "    {\n",
    "        if(heightMap[top] < 9)\n",
    "        {\n",
    "            values.Add(top);\n",
    "        }\n",
    "    }\n",
    "\n",
    "    if(index < heightMap.Count() - width)\n",
    "    {\n",
    "        if(heightMap[bottom] < 9)\n",
    "        {\n",
    "            values.Add(bottom);\n",
    "        }\n",
    "    }\n",
    "\n",
    "    return values;\n",
    "};\n",
    "\n",
    "var threeLargestBasinsMultiplied = Enumerable.Range(0, heightMap.Count())\n",
    "    .Select(index => \n",
    "        {\n",
    "            if(!IsLowestPoint(index))\n",
    "            {\n",
    "                return (int?)null;\n",
    "            }\n",
    "\n",
    "            var pointsInBasin = new List<int>();\n",
    "            \n",
    "            var investigate = new Queue<int>();\n",
    "            investigate.Enqueue(index);\n",
    "\n",
    "            while (investigate.Count > 0)\n",
    "            {\n",
    "                var point = investigate.Dequeue();\n",
    "\n",
    "                pointsInBasin.Add(point);\n",
    "\n",
    "                var surrounding = surroundingBasinValues(point);\n",
    "\n",
    "                foreach(var surr in surrounding)\n",
    "                {\n",
    "                    if(!pointsInBasin.Contains(surr) && !investigate.Contains(surr))\n",
    "                    {\n",
    "                        investigate.Enqueue(surr);\n",
    "                    }\n",
    "                }\n",
    "            }\n",
    "\n",
    "            return pointsInBasin.Count();\n",
    "        }\n",
    "    )\n",
    "    .Where(_ => _ != null)\n",
    "    .OrderByDescending(_ => _)\n",
    "    .Take(3)\n",
    "    .Aggregate(1, (total, size) => total *= (int)size);\n",
    "\n",
    "Console.WriteLine(threeLargestBasinsMultiplied);\n"
   ]
  }
 ],
 "metadata": {
  "kernelspec": {
   "display_name": ".NET (C#)",
   "language": "C#",
   "name": ".net-csharp"
  },
  "language_info": {
   "name": "C#"
  }
 },
 "nbformat": 4,
 "nbformat_minor": 2
}
