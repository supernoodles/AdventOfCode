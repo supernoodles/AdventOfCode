{
 "cells": [
  {
   "cell_type": "code",
   "execution_count": null,
   "metadata": {
    "dotnet_interactive": {
     "language": "csharp"
    }
   },
   "outputs": [],
   "source": [
    "using System;\n",
    "using System.Collections.Generic;\n",
    "using System.IO;\n",
    "using System.Linq;\n",
    "using System.Text.RegularExpressions;\n",
    "\n",
    "var data = File.ReadAllText(\"inputs/input_day15.txt\");"
   ]
  },
  {
   "cell_type": "code",
   "execution_count": null,
   "metadata": {
    "dotnet_interactive": {
     "language": "csharp"
    }
   },
   "outputs": [],
   "source": [
    "// Test data\n",
    "var data = \n",
    "@\"1163751742\n",
    "1381373672\n",
    "2136511328\n",
    "3694931569\n",
    "7463417111\n",
    "1319128137\n",
    "1359912421\n",
    "3125421639\n",
    "1293138521\n",
    "2311944581\";"
   ]
  },
  {
   "cell_type": "code",
   "execution_count": null,
   "metadata": {
    "dotnet_interactive": {
     "language": "csharp"
    }
   },
   "outputs": [
    {
     "name": "stdout",
     "output_type": "stream",
     "text": [
      "250000\n",
      "100\n"
     ]
    }
   ],
   "source": [
    "public class RiskLevel\n",
    "{\n",
    "    public int X {get;set;}\n",
    "    public int Y {get;set;}\n",
    "    public int Risk {get;set;}\n",
    "    public int Distance {get;set;}\n",
    "    public bool Visited {get;set;}\n",
    "\n",
    "    public override string ToString() => $\"X={X} Y={Y} Risk={Risk} Distance={Distance} Visited={Visited}\";\n",
    "}\n",
    "\n",
    "var all = new Dictionary<(int,int), RiskLevel>();\n",
    "\n",
    "var rowLines = data.Split(Environment.NewLine);\n",
    "\n",
    "var dimension = rowLines.First().Length;\n",
    "\n",
    "var nodes = \n",
    "    rowLines\n",
    "        .SelectMany((line, y) =>\n",
    "            line.SelectMany((ch, x) => \n",
    "                Enumerable.Range(0, 5)\n",
    "                    .SelectMany(\n",
    "                        column => Enumerable.Range(0, 5)\n",
    "                            .Select(row => {\n",
    "                                var risk = ((int)Char.GetNumericValue(ch) - 1 + row + column) % 9 + 1;\n",
    "                                var xCoord = x + dimension * column;\n",
    "                                var yCoord = y + dimension * row;\n",
    "                                return new RiskLevel {X = xCoord, Y = yCoord, Risk = risk, Distance = int.MaxValue, Visited = false};\n",
    "                            })\n",
    "                    )\n",
    "            )\n",
    "        );\n",
    "\n",
    "foreach(var node in nodes)\n",
    "{\n",
    "    all.Add((node.X, node.Y), node);\n",
    "}\n",
    "\n",
    "Console.WriteLine(all.Count);\n",
    "\n",
    "Console.WriteLine(dimension);\n"
   ]
  },
  {
   "cell_type": "code",
   "execution_count": null,
   "metadata": {
    "dotnet_interactive": {
     "language": "csharp"
    }
   },
   "outputs": [
    {
     "name": "stdout",
     "output_type": "stream",
     "text": [
      "[(499, 499), X=499 Y=499 Risk=7 Distance=2914 Visited=True]\n"
     ]
    }
   ],
   "source": [
    "// Try PriorityQueue\n",
    "var current = all[(0,0)];\n",
    "current.Distance = 0;\n",
    "\n",
    "var outOfBounds = (-1, -1);\n",
    "\n",
    "var neighbours = (int x, int y) => \n",
    "    new (int,int)[] \n",
    "    {\n",
    "        x - 1 >= 0 ? (x - 1, y) : outOfBounds,\n",
    "        x + 1 < (dimension * 5) ? (x + 1, y) : outOfBounds,\n",
    "        y - 1 >= 0 ? (x, y - 1) : outOfBounds,\n",
    "        y + 1 < (dimension * 5) ? (x, y + 1) : outOfBounds\n",
    "    }.Where(_ => _ != outOfBounds);\n",
    "\n",
    "var queue = new PriorityQueue<RiskLevel, int>();\n",
    "queue.Enqueue(current, current.Distance);\n",
    "\n",
    "while(queue.TryDequeue(out current, out _))\n",
    "{\n",
    "    foreach(var neighbour in neighbours(current.X, current.Y))\n",
    "    {\n",
    "        var node = all[neighbour];\n",
    "\n",
    "        if(node.Visited)\n",
    "        {\n",
    "            continue;\n",
    "        }\n",
    "\n",
    "        var distance = current.Distance + node.Risk;\n",
    "\n",
    "        if(distance < node.Distance)\n",
    "        {\n",
    "            node.Distance = distance;\n",
    "            queue.Enqueue(node, distance);\n",
    "        }\n",
    "    }\n",
    "\n",
    "    current.Visited = true;\n",
    "}\n",
    "\n",
    "Console.WriteLine(all.Last());"
   ]
  }
 ],
 "metadata": {
  "kernelspec": {
   "display_name": ".NET (C#)",
   "language": "C#",
   "name": ".net-csharp"
  },
  "language_info": {
   "name": "C#"
  }
 },
 "nbformat": 4,
 "nbformat_minor": 2
}
