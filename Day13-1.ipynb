{
 "cells": [
  {
   "cell_type": "code",
   "execution_count": null,
   "metadata": {
    "dotnet_interactive": {
     "language": "csharp"
    }
   },
   "outputs": [],
   "source": [
    "using System;\n",
    "using System.Collections.Generic;\n",
    "using System.IO;\n",
    "using System.Linq;\n",
    "\n",
    "var input = File.ReadAllText(\"inputs/input_day13.txt\");"
   ]
  },
  {
   "cell_type": "code",
   "execution_count": null,
   "metadata": {
    "dotnet_interactive": {
     "language": "csharp"
    }
   },
   "outputs": [],
   "source": [
    "const string testInput = \n",
    "@\"6,10\n",
    "0,14\n",
    "9,10\n",
    "0,3\n",
    "10,4\n",
    "4,11\n",
    "6,0\n",
    "6,12\n",
    "4,1\n",
    "0,13\n",
    "10,12\n",
    "3,4\n",
    "3,0\n",
    "8,4\n",
    "1,10\n",
    "2,14\n",
    "8,10\n",
    "9,0\n",
    "\n",
    "fold along y=7\n",
    "fold along x=5\";"
   ]
  },
  {
   "cell_type": "code",
   "execution_count": null,
   "metadata": {
    "dotnet_interactive": {
     "language": "csharp"
    }
   },
   "outputs": [],
   "source": [
    "private record Coordinate(int x, int y);\n",
    "\n",
    "private HashSet<Coordinate> paper = new ();\n",
    "\n",
    "private List<(string, int)> folds = new ();"
   ]
  },
  {
   "cell_type": "code",
   "execution_count": null,
   "metadata": {
    "dotnet_interactive": {
     "language": "csharp"
    }
   },
   "outputs": [],
   "source": [
    "void Parse(string instructions)\n",
    "{\n",
    "    instructions\n",
    "        .Split(new[] {Environment.NewLine, \"\\n\"}, StringSplitOptions.None)\n",
    "        .Where(_ => !string.IsNullOrWhiteSpace(_))\n",
    "        .ToList()\n",
    "        .ForEach(line => {\n",
    "            if(line.Contains(\",\"))\n",
    "            {\n",
    "                var coords = line.Split(\",\").Select(_ => int.Parse(_)).ToArray();\n",
    "                paper.Add(new Coordinate(coords[0], coords[1]));\n",
    "            }\n",
    "\n",
    "            if(line.Contains(\"fold along\"))\n",
    "            {\n",
    "                var fold = line.Split(new[]{' ', '='});\n",
    "\n",
    "                folds.Add((fold[2], int.Parse(fold[3])));\n",
    "            }\n",
    "        });\n",
    "}"
   ]
  },
  {
   "cell_type": "code",
   "execution_count": null,
   "metadata": {
    "dotnet_interactive": {
     "language": "csharp"
    }
   },
   "outputs": [],
   "source": [
    "void Fold((string, int) fold)\n",
    "{\n",
    "    var (axis, index) = fold;\n",
    "\n",
    "    if(axis == \"y\")\n",
    "    {\n",
    "        FoldCoords(index, aboveFold, yFoldedCoordinate);\n",
    "        return;\n",
    "    }\n",
    "\n",
    "    FoldCoords(index, leftOfFold, xFoldedCoordinate);\n",
    "}\n",
    "\n",
    "Func<Coordinate, int, bool> aboveFold = \n",
    "    (c, index) => c.y < index;\n",
    "\n",
    "Func<Coordinate, int, Coordinate> yFoldedCoordinate = \n",
    "    (c, index) => new Coordinate(c.x, 2 * index - c.y);\n",
    "\n",
    "Func<Coordinate, int, bool> leftOfFold = \n",
    "    (c, index) => c.x < index;\n",
    "\n",
    "Func<Coordinate, int, Coordinate> xFoldedCoordinate = \n",
    "    (c, index) => new Coordinate(2 * index - c.x , c.y);\n",
    "\n",
    "void FoldCoords(int index, Func<Coordinate, int, bool> keepCoord, \n",
    "    Func<Coordinate, int, Coordinate> foldedCoord)\n",
    "{\n",
    "    HashSet<Coordinate> foldedPaper = new ();\n",
    "\n",
    "    foreach(var coordinate in paper)\n",
    "    {\n",
    "        if(keepCoord(coordinate, index))\n",
    "        {\n",
    "            foldedPaper.Add(coordinate);\n",
    "            continue;\n",
    "        }\n",
    "\n",
    "        foldedPaper.Add(foldedCoord(coordinate, index));\n",
    "    }\n",
    "\n",
    "    paper = foldedPaper;\n",
    "}"
   ]
  },
  {
   "cell_type": "code",
   "execution_count": null,
   "metadata": {
    "dotnet_interactive": {
     "language": "csharp"
    }
   },
   "outputs": [],
   "source": [
    "void Print()\n",
    "{\n",
    "    var maxX  = paper.Select(_ => _.x).Max();\n",
    "    var maxY  = paper.Select(_ => _.y).Max();\n",
    "\n",
    "    foreach(var y in Enumerable.Range(0, maxY + 1))\n",
    "    {\n",
    "        Console.WriteLine(\n",
    "            Enumerable.Range(0, maxX + 1)\n",
    "                .Select(x => paper.Contains(new Coordinate(x, y)) ? \"#\" : \".\")\n",
    "                .Aggregate(\"\", (a, c) => a + c)\n",
    "        );\n",
    "    }\n",
    "\n",
    "    Console.WriteLine();\n",
    "}"
   ]
  },
  {
   "cell_type": "code",
   "execution_count": null,
   "metadata": {
    "dotnet_interactive": {
     "language": "csharp"
    }
   },
   "outputs": [],
   "source": [
    "int Process(string instructions, bool processFirstInstructionOnly = false)\n",
    "{\n",
    "    Parse(instructions);\n",
    "\n",
    "    Console.WriteLine();\n",
    "\n",
    "    foreach(var fold in folds)\n",
    "    {\n",
    "        Fold(fold);\n",
    "\n",
    "        if(processFirstInstructionOnly)\n",
    "        {\n",
    "            break;\n",
    "        }\n",
    "    }\n",
    "\n",
    "    //Print();\n",
    "\n",
    "    return paper.Count();\n",
    "}"
   ]
  },
  {
   "cell_type": "code",
   "execution_count": null,
   "metadata": {
    "dotnet_interactive": {
     "language": "csharp"
    }
   },
   "outputs": [
    {
     "name": "stdout",
     "output_type": "stream",
     "text": [
      "\r\n",
      "747\r\n"
     ]
    }
   ],
   "source": [
    "Console.WriteLine(Process(input, true));"
   ]
  }
 ],
 "metadata": {
  "kernelspec": {
   "display_name": ".NET (C#)",
   "language": "C#",
   "name": ".net-csharp"
  },
  "language_info": {
   "name": "C#"
  }
 },
 "nbformat": 4,
 "nbformat_minor": 2
}
