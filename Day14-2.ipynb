{
 "cells": [
  {
   "cell_type": "code",
   "execution_count": null,
   "metadata": {
    "dotnet_interactive": {
     "language": "csharp"
    }
   },
   "outputs": [],
   "source": [
    "using System;\n",
    "using System.Collections.Generic;\n",
    "using System.IO;\n",
    "using System.Linq;\n",
    "using System.Text.RegularExpressions;\n",
    "\n",
    "var data = File.ReadAllText(\"inputs/input_day14.txt\");"
   ]
  },
  {
   "cell_type": "code",
   "execution_count": null,
   "metadata": {
    "dotnet_interactive": {
     "language": "csharp"
    }
   },
   "outputs": [],
   "source": [
    "// Test data\n",
    "var dataF = \n",
    "@\"NNCB\n",
    "\n",
    "CH -> B\n",
    "HH -> N\n",
    "CB -> H\n",
    "NH -> C\n",
    "HB -> C\n",
    "HC -> B\n",
    "HN -> C\n",
    "NN -> C\n",
    "BH -> H\n",
    "NC -> B\n",
    "NB -> B\n",
    "BN -> B\n",
    "BB -> N\n",
    "BC -> B\n",
    "CC -> N\n",
    "CN -> C\";"
   ]
  },
  {
   "cell_type": "code",
   "execution_count": null,
   "metadata": {
    "dotnet_interactive": {
     "language": "csharp"
    }
   },
   "outputs": [
    {
     "name": "stdout",
     "output_type": "stream",
     "text": [
      "KFFNFNNBCNOBCNPFVKCP 100\r\n"
     ]
    }
   ],
   "source": [
    "var matcher = new Regex(@\"^(\\w{2}) -> (\\w{1})$\", RegexOptions.Compiled);\n",
    "\n",
    "var template = \"\";\n",
    "\n",
    "var map = new Dictionary<string, string[]>();\n",
    "\n",
    "var pairCounts = new Dictionary<string, long>();\n",
    "\n",
    "using(var reader = new StringReader(data))\n",
    "{\n",
    "    template = reader.ReadLine();\n",
    "\n",
    "    reader.ReadLine();\n",
    "\n",
    "    string line;\n",
    "    while((line = reader.ReadLine()) != null)\n",
    "    {\n",
    "        var match = matcher.Match(line);\n",
    "\n",
    "        if(!match.Success)\n",
    "        {\n",
    "            continue;\n",
    "        }\n",
    "\n",
    "        var pair = match.Groups[1].Value;\n",
    "        var insertion = match.Groups[2].Value;\n",
    "\n",
    "        map.Add(pair, new[]{pair[0] + insertion, insertion + pair[1]});\n",
    "\n",
    "        pairCounts.Add(pair, 0);\n",
    "    }\n",
    "}\n",
    "\n",
    "Console.WriteLine(template + \" \" + pairCounts.Count);"
   ]
  },
  {
   "cell_type": "code",
   "execution_count": null,
   "metadata": {
    "dotnet_interactive": {
     "language": "csharp"
    }
   },
   "outputs": [
    {
     "name": "stdout",
     "output_type": "stream",
     "text": [
      "2158894777814\r\n"
     ]
    }
   ],
   "source": [
    "for(var index = 0; index < template.Length - 1; ++index)\n",
    "{\n",
    "    pairCounts[new string(template.Skip(index).Take(2).ToArray())] += 1;\n",
    "}\n",
    "\n",
    "for(var index = 0; index < 40; ++index)\n",
    "{\n",
    "    var populated = pairCounts.Where(_ => _.Value > 0);\n",
    "\n",
    "    var newPairCounts = new Dictionary<string,long>(pairCounts);\n",
    "\n",
    "    foreach(var pairCount in populated)\n",
    "    {\n",
    "        var newPair = map[pairCount.Key];\n",
    "\n",
    "        newPairCounts[newPair[0]] += pairCount.Value;\n",
    "        newPairCounts[newPair[1]] += pairCount.Value;\n",
    "\n",
    "        newPairCounts[pairCount.Key] -= pairCount.Value;\n",
    "    }\n",
    "\n",
    "    pairCounts = newPairCounts;\n",
    "}\n",
    "\n",
    "record ElementCount(char Element, long Count);\n",
    "\n",
    "var counts = \n",
    "    pairCounts.SelectMany(pair =>\n",
    "        new []{new ElementCount(pair.Key[0], pair.Value), new ElementCount(pair.Key[1], pair.Value)}\n",
    "    )\n",
    "    .Where(_ => _.Count > 0)\n",
    "    .GroupBy(_ => _.Element)\n",
    "    .Select(_ => {\n",
    "        var extra = _.Key == template.First() || _.Key == template.Last() ? 1L : 0L;\n",
    "        return (_.Select(_ => _.Count).Sum() + extra) / 2L;\n",
    "    })\n",
    "    .OrderByDescending(_ => _);\n",
    "\n",
    "Console.WriteLine(counts.First() - counts.Last());"
   ]
  }
 ],
 "metadata": {
  "kernelspec": {
   "display_name": ".NET (C#)",
   "language": "C#",
   "name": ".net-csharp"
  },
  "language_info": {
   "name": "C#"
  }
 },
 "nbformat": 4,
 "nbformat_minor": 2
}
