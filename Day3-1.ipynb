{
 "cells": [
  {
   "cell_type": "code",
   "execution_count": null,
   "metadata": {
    "dotnet_interactive": {
     "language": "csharp"
    }
   },
   "outputs": [],
   "source": [
    "using System;\n",
    "using System.IO;\n",
    "\n",
    "var datafile = File.ReadAllText(\"inputs/input_day2.txt\");"
   ]
  },
  {
   "cell_type": "code",
   "execution_count": null,
   "metadata": {
    "dotnet_interactive": {
     "language": "csharp"
    }
   },
   "outputs": [],
   "source": [
    "// Test data\n",
    "\n",
    "var datafile = \n",
    "@\"\n",
    "forward 5\n",
    "down 5\n",
    "forward 8\n",
    "up 3\n",
    "down 8\n",
    "forward 2\n",
    "\";"
   ]
  },
  {
   "cell_type": "code",
   "execution_count": null,
   "metadata": {
    "dotnet_interactive": {
     "language": "csharp"
    }
   },
   "outputs": [
    {
     "name": "stdout",
     "output_type": "stream",
     "text": [
      "1604592846\n"
     ]
    }
   ],
   "source": [
    "using System.Text.RegularExpressions;\n",
    "\n",
    "int horizontal = 0;\n",
    "int depth = 0;\n",
    "int aim = 0;\n",
    "\n",
    "var matcher = new Regex(@\"^(\\w+)\\s{1}(\\d+)$\", RegexOptions.Compiled);\n",
    "\n",
    "string line = null;\n",
    "\n",
    "using(var reader = new StringReader(datafile))\n",
    "{\n",
    "    while((line = reader.ReadLine()) != null)\n",
    "    {\n",
    "        var match = matcher.Match(line);\n",
    "\n",
    "        if(!match.Success)\n",
    "        {\n",
    "            continue;\n",
    "        }\n",
    "\n",
    "        var command = match.Groups[1].Value;\n",
    "        var amount = int.Parse(match.Groups[2].Value);\n",
    "\n",
    "        if(command == \"forward\")\n",
    "        {\n",
    "            horizontal += amount;\n",
    "            depth += (aim * amount);\n",
    "            continue;\n",
    "        }\n",
    "\n",
    "        if(command == \"up\")\n",
    "        {\n",
    "            aim -= amount;\n",
    "            continue;\n",
    "        }\n",
    "\n",
    "        if(command == \"down\")\n",
    "        {\n",
    "            aim += amount;\n",
    "            continue;\n",
    "        }\n",
    "    }\n",
    "}\n",
    "\n",
    "Console.WriteLine(horizontal * depth);"
   ]
  }
 ],
 "metadata": {
  "kernelspec": {
   "display_name": ".NET (C#)",
   "language": "C#",
   "name": ".net-csharp"
  },
  "language_info": {
   "name": "C#"
  }
 },
 "nbformat": 4,
 "nbformat_minor": 2
}
