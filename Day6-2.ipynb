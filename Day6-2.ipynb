{
 "cells": [
  {
   "cell_type": "code",
   "execution_count": null,
   "metadata": {
    "dotnet_interactive": {
     "language": "csharp"
    }
   },
   "outputs": [],
   "source": [
    "using System;\n",
    "using System.Collections.Generic;\n",
    "using System.IO;\n",
    "using System.Linq;\n",
    "\n",
    "var data = File.ReadAllText(\"inputs/input_day6.txt\");"
   ]
  },
  {
   "cell_type": "code",
   "execution_count": null,
   "metadata": {
    "dotnet_interactive": {
     "language": "csharp"
    }
   },
   "outputs": [],
   "source": [
    "// Test data\n",
    "var data = \"3,4,3,1,2\";"
   ]
  },
  {
   "cell_type": "code",
   "execution_count": null,
   "metadata": {
    "dotnet_interactive": {
     "language": "csharp"
    }
   },
   "outputs": [
    {
     "name": "stdout",
     "output_type": "stream",
     "text": [
      "1595779846729\n"
     ]
    }
   ],
   "source": [
    "var initialFishPopulation = data.Split(',')\n",
    "    .Where(_ => !string.IsNullOrWhiteSpace(_))\n",
    "    .Select(int.Parse)\n",
    "    .ToList();\n",
    "\n",
    "var fishStates = Enumerable.Repeat(0L, 9).ToArray();\n",
    "\n",
    "foreach(var fish in initialFishPopulation)\n",
    "{\n",
    "    fishStates[fish] += 1;\n",
    "}\n",
    "\n",
    "for(var days = 1; days <= 256; ++days)\n",
    "{\n",
    "    var fishInDay0 = fishStates[0];\n",
    "\n",
    "    for(var day = 1; day <= 8; ++day)\n",
    "    {\n",
    "        fishStates[day - 1] = fishStates[day];\n",
    "    }\n",
    "\n",
    "    fishStates[6] += fishInDay0;\n",
    "    fishStates[8] = fishInDay0;\n",
    "}\n",
    "\n",
    "Console.WriteLine(fishStates.Sum());"
   ]
  }
 ],
 "metadata": {
  "kernelspec": {
   "display_name": ".NET (C#)",
   "language": "C#",
   "name": ".net-csharp"
  },
  "language_info": {
   "name": "C#"
  }
 },
 "nbformat": 4,
 "nbformat_minor": 2
}
