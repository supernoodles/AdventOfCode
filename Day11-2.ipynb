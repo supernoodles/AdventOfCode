{
 "cells": [
  {
   "cell_type": "code",
   "execution_count": null,
   "metadata": {
    "dotnet_interactive": {
     "language": "csharp"
    }
   },
   "outputs": [],
   "source": [
    "using System;\n",
    "using System.Collections.Generic;\n",
    "using System.IO;\n",
    "using System.Linq;\n",
    "\n",
    "var data = File.ReadAllText(\"inputs/input_day11.txt\");"
   ]
  },
  {
   "cell_type": "code",
   "execution_count": null,
   "metadata": {
    "dotnet_interactive": {
     "language": "csharp"
    }
   },
   "outputs": [],
   "source": [
    "// Test data\n",
    "var data_test = \n",
    "@\"5483143223\n",
    "2745854711\n",
    "5264556173\n",
    "6141336146\n",
    "6357385478\n",
    "4167524645\n",
    "2176841721\n",
    "6882881134\n",
    "4846848554\n",
    "5283751526\";"
   ]
  },
  {
   "cell_type": "code",
   "execution_count": null,
   "metadata": {
    "dotnet_interactive": {
     "language": "csharp"
    }
   },
   "outputs": [
    {
     "name": "stdout",
     "output_type": "stream",
     "text": [
      "10 100\r\n"
     ]
    }
   ],
   "source": [
    "var energyLevels = new List<int>();\n",
    "\n",
    "var width = 0;\n",
    "\n",
    "using(var reader = new StringReader(data))\n",
    "{\n",
    "    string line;\n",
    "    while((line = reader.ReadLine()) != null)\n",
    "    {\n",
    "        if(width == 0)\n",
    "        {\n",
    "            width = line.Length;\n",
    "        }\n",
    "\n",
    "        energyLevels.AddRange(\n",
    "            line\n",
    "                .Select((char ch) => int.Parse(ch.ToString()))\n",
    "        );\n",
    "    }\n",
    "}\n",
    "\n",
    "Console.WriteLine(width + \" \" + energyLevels.Count());"
   ]
  },
  {
   "cell_type": "code",
   "execution_count": null,
   "metadata": {
    "dotnet_interactive": {
     "language": "csharp"
    }
   },
   "outputs": [],
   "source": [
    "void Print(List<int> list, int width)\n",
    "{\n",
    "    var output = \n",
    "        Enumerable.Range(0, list.Count / width)\n",
    "            .Select(row => list.Skip(row * width).Take(width).Aggregate(\"\", (line, item) => line+=$\"{item,2}\"));\n",
    "\n",
    "    foreach(var line in output)\n",
    "    {\n",
    "        Console.WriteLine(line);\n",
    "    }\n",
    "}"
   ]
  },
  {
   "cell_type": "code",
   "execution_count": null,
   "metadata": {
    "dotnet_interactive": {
     "language": "csharp"
    }
   },
   "outputs": [],
   "source": [
    "IEnumerable<int> Neighbours(int index)\n",
    "{\n",
    "    var topLeft = index - width - 1;\n",
    "    var top = index - width;\n",
    "    var topRight = index - width + 1;\n",
    "    var left = index - 1;\n",
    "    var right = index + 1;\n",
    "    var bottomLeft = index + width - 1;\n",
    "    var bottom = index + width;\n",
    "    var bottomRight = index + width + 1;\n",
    "\n",
    "    var neighbours = new List<int>();\n",
    "\n",
    "    if(index >= width && index % width > 0)\n",
    "    {\n",
    "        neighbours.Add(topLeft);\n",
    "    }\n",
    "\n",
    "    if(index >= width)\n",
    "    {\n",
    "        neighbours.Add(top);\n",
    "    }\n",
    "\n",
    "    if(index >= width && index % width < width - 1)\n",
    "    {\n",
    "        neighbours.Add(topRight);\n",
    "    }\n",
    "\n",
    "    if(index % width > 0)\n",
    "    {\n",
    "        neighbours.Add(left);\n",
    "    }\n",
    "\n",
    "    if(index % width < width - 1)\n",
    "    {\n",
    "        neighbours.Add(right);\n",
    "    }\n",
    "\n",
    "    if(index < energyLevels.Count() - width && index % width > 0)\n",
    "    {\n",
    "        neighbours.Add(bottomLeft);\n",
    "    }\n",
    "\n",
    "    if(index < energyLevels.Count() - width)\n",
    "    {\n",
    "        neighbours.Add(bottom);\n",
    "    }\n",
    "\n",
    "    if(index < energyLevels.Count() - width && index % width < width - 1)\n",
    "    {\n",
    "        neighbours.Add(bottomRight);\n",
    "    }\n",
    "\n",
    "    return neighbours;\n",
    "}"
   ]
  },
  {
   "cell_type": "code",
   "execution_count": null,
   "metadata": {
    "dotnet_interactive": {
     "language": "csharp"
    }
   },
   "outputs": [],
   "source": [
    "int IterateAndCountFlashes()\n",
    "{\n",
    "    var flashedThisIteration = new List<int>();\n",
    "\n",
    "    for(var index = 0; index < energyLevels.Count; ++index)\n",
    "    {\n",
    "        energyLevels[index] += 1;\n",
    "    }\n",
    "\n",
    "    while(true)\n",
    "    {\n",
    "        var flashers = energyLevels\n",
    "            .Select((level, i) => level > 9 ? i : -1)\n",
    "            .Where(_ => _ != -1)\n",
    "            .ToList();\n",
    "\n",
    "        if(flashers.Count == 0)\n",
    "        {\n",
    "            break;\n",
    "        }\n",
    "\n",
    "        foreach(var flasher in flashers)\n",
    "        {\n",
    "            energyLevels[flasher] = 0;\n",
    "\n",
    "            flashedThisIteration.Add(flasher);\n",
    "\n",
    "            var neighbours = \n",
    "                Neighbours(flasher)\n",
    "                    .Where(_ => !flashedThisIteration.Contains(_));\n",
    "\n",
    "            foreach(var neighbour in neighbours)\n",
    "            {\n",
    "                energyLevels[neighbour] += 1;\n",
    "            }\n",
    "        }\n",
    "    }\n",
    "\n",
    "    return flashedThisIteration.Count;\n",
    "}"
   ]
  },
  {
   "cell_type": "code",
   "execution_count": null,
   "metadata": {
    "dotnet_interactive": {
     "language": "csharp"
    }
   },
   "outputs": [
    {
     "name": "stdout",
     "output_type": "stream",
     "text": [
      "515\r\n"
     ]
    }
   ],
   "source": [
    "var allFlashes = Enumerable.Range(0, 1000)\n",
    "    .Select((_, index) => new {Count = IterateAndCountFlashes(), Index = index})\n",
    "    .Where(_ => _.Count == energyLevels.Count)\n",
    "    .First();\n",
    "\n",
    "Console.WriteLine(allFlashes.Index + 1);"
   ]
  }
 ],
 "metadata": {
  "kernelspec": {
   "display_name": ".NET (C#)",
   "language": "C#",
   "name": ".net-csharp"
  },
  "language_info": {
   "name": "C#"
  }
 },
 "nbformat": 4,
 "nbformat_minor": 2
}
