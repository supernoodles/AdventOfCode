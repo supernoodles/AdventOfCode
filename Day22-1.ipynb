{
 "cells": [
  {
   "cell_type": "code",
   "execution_count": null,
   "metadata": {
    "dotnet_interactive": {
     "language": "csharp"
    }
   },
   "outputs": [],
   "source": [
    "using System;\n",
    "using System.Collections.Generic;\n",
    "using System.IO;\n",
    "using System.Linq;\n",
    "using System.Text.RegularExpressions;\n",
    "\n",
    "var input = File.ReadAllText(\"inputs/input_day22.txt\");"
   ]
  },
  {
   "cell_type": "code",
   "execution_count": null,
   "metadata": {
    "dotnet_interactive": {
     "language": "csharp"
    }
   },
   "outputs": [],
   "source": [
    "class Cuboid\n",
    "{\n",
    "    public bool TurnOn { get; set; }\n",
    "    public long Value { get; set; }\n",
    "    public long MinX { get; set; }\n",
    "    public long MaxX { get; set; }\n",
    "    public long MinY { get; set; }\n",
    "    public long MaxY { get; set; }\n",
    "    public long MinZ { get; set; }\n",
    "    public long MaxZ { get; set; }\n",
    "\n",
    "    public Cuboid(bool turnOn, long minX, long maxX, long minY, long maxY, long minZ, long maxZ)\n",
    "    {\n",
    "        TurnOn = turnOn;\n",
    "        MinX = minX;\n",
    "        MaxX = maxX;\n",
    "        MinY = minY;\n",
    "        MaxY = maxY;\n",
    "        MinZ = minZ;\n",
    "        MaxZ = maxZ;\n",
    "    }\n",
    "\n",
    "    public long Volume => (MaxX - MinX + 1) * (MaxY - MinY + 1) * (MaxZ - MinZ + 1);\n",
    "\n",
    "    public bool Valid => (MaxX >= MinX) && (MaxY >= MinY) && (MaxZ >= MinZ);       \n",
    "\n",
    "    public Cuboid Overlap(Cuboid other)\n",
    "    {\n",
    "        var newCuboid = new Cuboid(\n",
    "                false,\n",
    "                Math.Max(MinX, other.MinX),\n",
    "                Math.Min(MaxX, other.MaxX),\n",
    "                Math.Max(MinY, other.MinY),\n",
    "                Math.Min(MaxY, other.MaxY),\n",
    "                Math.Max(MinZ, other.MinZ),\n",
    "                Math.Min(MaxZ, other.MaxZ)\n",
    "            );\n",
    "\n",
    "        return newCuboid;\n",
    "    }\n",
    "}"
   ]
  },
  {
   "cell_type": "code",
   "execution_count": null,
   "metadata": {
    "dotnet_interactive": {
     "language": "csharp"
    }
   },
   "outputs": [],
   "source": [
    "var test =\n",
    "@\"on x=10..12,y=10..12,z=10..12\n",
    "on x=11..13,y=11..13,z=11..13\n",
    "off x=9..11,y=9..11,z=9..11\n",
    "on x=10..10,y=10..10,z=10..10\";\n",
    "\n",
    "var test2 =\n",
    "@\"on x=-20..26,y=-36..17,z=-47..7\n",
    "on x=-20..33,y=-21..23,z=-26..28\n",
    "on x=-22..28,y=-29..23,z=-38..16\n",
    "on x=-46..7,y=-6..46,z=-50..-1\n",
    "on x=-49..1,y=-3..46,z=-24..28\n",
    "on x=2..47,y=-22..22,z=-23..27\n",
    "on x=-27..23,y=-28..26,z=-21..29\n",
    "on x=-39..5,y=-6..47,z=-3..44\n",
    "on x=-30..21,y=-8..43,z=-13..34\n",
    "on x=-22..26,y=-27..20,z=-29..19\n",
    "off x=-48..-32,y=26..41,z=-47..-37\n",
    "on x=-12..35,y=6..50,z=-50..-2\n",
    "off x=-48..-32,y=-32..-16,z=-15..-5\n",
    "on x=-18..26,y=-33..15,z=-7..46\n",
    "off x=-40..-22,y=-38..-28,z=23..41\n",
    "on x=-16..35,y=-41..10,z=-47..6\n",
    "off x=-32..-23,y=11..30,z=-14..3\n",
    "on x=-49..-5,y=-3..45,z=-29..18\n",
    "off x=18..30,y=-20..-8,z=-3..13\n",
    "on x=-41..9,y=-7..43,z=-33..15\";\n",
    "\n",
    "List<Cuboid> cuboids = new();\n",
    "\n",
    "foreach (var line in input.Split(\"\\n\").Where(_ => !string.IsNullOrWhiteSpace(_)).Take(20))\n",
    "{\n",
    "    var values = Regex.Split(line, @\"[^\\d-]+\");\n",
    "\n",
    "    cuboids.Add(new Cuboid(\n",
    "        line[..2] == \"on\",\n",
    "        int.Parse(values[1]),\n",
    "        int.Parse(values[2]),\n",
    "        int.Parse(values[3]),\n",
    "        int.Parse(values[4]),\n",
    "        int.Parse(values[5]),\n",
    "        int.Parse(values[6])\n",
    "    ));\n",
    "}\n"
   ]
  },
  {
   "cell_type": "code",
   "execution_count": null,
   "metadata": {
    "dotnet_interactive": {
     "language": "csharp"
    }
   },
   "outputs": [
    {
     "name": "stdout",
     "output_type": "stream",
     "text": [
      "32865\r\n",
      "607573\r\n"
     ]
    }
   ],
   "source": [
    "\n",
    "List<Cuboid> finalCuboids = new List<Cuboid>();\n",
    "\n",
    "foreach(var cuboid in cuboids)\n",
    "{\n",
    "    cuboid.Value = cuboid.TurnOn ? 1 : 0;\n",
    "\n",
    "    List<Cuboid> cuboidsToAdd = new();\n",
    "\n",
    "    foreach(var final in finalCuboids)\n",
    "    {\n",
    "        var interSect = cuboid.Overlap(final);\n",
    "\n",
    "        if(!interSect.Valid)\n",
    "        {\n",
    "            continue;\n",
    "        }\n",
    "\n",
    "        interSect.TurnOn = !(cuboid.TurnOn && final.TurnOn);\n",
    "        interSect.Value = final.Value == 1 ? -1 : 1;\n",
    "\n",
    "        cuboidsToAdd.Add(interSect);\n",
    "    }\n",
    "    if (cuboid.TurnOn)\n",
    "    {\n",
    "        finalCuboids.Add(cuboid);\n",
    "    }\n",
    "\n",
    "    finalCuboids.AddRange(cuboidsToAdd);\n",
    "}\n",
    "\n",
    "Console.WriteLine(finalCuboids.Count);\n",
    "\n",
    "Console.WriteLine(finalCuboids.Sum(_ => _.Volume * _.Value));\n"
   ]
  }
 ],
 "metadata": {
  "kernelspec": {
   "display_name": ".NET (C#)",
   "language": "C#",
   "name": ".net-csharp"
  },
  "language_info": {
   "name": "C#"
  }
 },
 "nbformat": 4,
 "nbformat_minor": 2
}
