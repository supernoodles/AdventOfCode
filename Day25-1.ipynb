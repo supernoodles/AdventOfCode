{
 "cells": [
  {
   "cell_type": "code",
   "execution_count": null,
   "metadata": {
    "dotnet_interactive": {
     "language": "csharp"
    }
   },
   "outputs": [],
   "source": [
    "using System;\n",
    "using System.Collections.Generic;\n",
    "using System.IO;\n",
    "using System.Linq;\n",
    "using System.Text.RegularExpressions;\n",
    "\n",
    "var input = File.ReadAllText(\"inputs/input_day25.txt\");"
   ]
  },
  {
   "cell_type": "code",
   "execution_count": null,
   "metadata": {
    "dotnet_interactive": {
     "language": "csharp"
    }
   },
   "outputs": [],
   "source": [
    "(bool, List<char>) Step(List<char> region, int width)\n",
    "{\n",
    "    var newEastRegion = new List<char>(region.Select(_ => _));\n",
    "\n",
    "    var movement = false;\n",
    "\n",
    "    int index = 0;\n",
    "    \n",
    "    foreach (var ch in region)\n",
    "    {\n",
    "        if (ch == '>')\n",
    "        {\n",
    "            var row = index / width;\n",
    "\n",
    "            var nextEasternSpot = (row * width) + (index + 1) % width;\n",
    "\n",
    "            if (region[nextEasternSpot] == '.')\n",
    "            {\n",
    "                newEastRegion[nextEasternSpot] = '>';\n",
    "                newEastRegion[index] = '.';\n",
    "\n",
    "                ++index;\n",
    "\n",
    "                movement = true;\n",
    "\n",
    "                continue;\n",
    "            }\n",
    "            newEastRegion[index] = ch;\n",
    "        }\n",
    "        ++index;\n",
    "    }\n",
    "\n",
    "    var newSouthRegion = new List<char>(newEastRegion.Select(_ => _));\n",
    "\n",
    "    index = 0;\n",
    "\n",
    "    foreach (var ch in region)\n",
    "    {\n",
    "        if (ch == 'v')\n",
    "        {\n",
    "            var nextSouthernSpot = (index + width) >= region.Count ? (index + width) % width : index + width;\n",
    "\n",
    "            if (newEastRegion[nextSouthernSpot] == '.')\n",
    "            {\n",
    "                newSouthRegion[nextSouthernSpot] = 'v';\n",
    "                newSouthRegion[index] = '.';\n",
    "\n",
    "                ++index;\n",
    "\n",
    "                movement = true;\n",
    "\n",
    "                continue;\n",
    "            }\n",
    "            newSouthRegion[index] = ch;\n",
    "        }\n",
    "\n",
    "        index++;\n",
    "    }\n",
    "\n",
    "    return (movement, newSouthRegion);\n",
    "}"
   ]
  },
  {
   "cell_type": "code",
   "execution_count": null,
   "metadata": {
    "dotnet_interactive": {
     "language": "csharp"
    }
   },
   "outputs": [
    {
     "name": "stdout",
     "output_type": "stream",
     "text": [
      "528\r\n"
     ]
    }
   ],
   "source": [
    "var region = new List<char>();\n",
    "\n",
    "var width = 0;\n",
    "\n",
    "using (var reader = new StringReader(input))\n",
    "{\n",
    "    string line;\n",
    "    while ((line = reader.ReadLine()) != null)\n",
    "    {\n",
    "        if (width == 0)\n",
    "        {\n",
    "            width = line.Length;\n",
    "        }\n",
    "\n",
    "        region.AddRange(\n",
    "            line\n",
    "                .Select(_ => _)\n",
    "        );\n",
    "    }\n",
    "}\n",
    "\n",
    "var step = 0;\n",
    "\n",
    "while (true){\n",
    "    ++step;\n",
    "    \n",
    "    var (movement, newRegion) = Step(region, width);\n",
    "\n",
    "    if(!movement)\n",
    "    {\n",
    "        break;\n",
    "    }\n",
    "\n",
    "    region = newRegion;\n",
    "};\n",
    "\n",
    "Console.WriteLine(step);"
   ]
  }
 ],
 "metadata": {
  "kernelspec": {
   "display_name": ".NET (C#)",
   "language": "C#",
   "name": ".net-csharp"
  },
  "language_info": {
   "name": "C#"
  }
 },
 "nbformat": 4,
 "nbformat_minor": 2
}
