{
 "cells": [
  {
   "cell_type": "code",
   "execution_count": null,
   "metadata": {
    "dotnet_interactive": {
     "language": "csharp"
    }
   },
   "outputs": [],
   "source": [
    "using System;\n",
    "using System.IO;\n",
    "using System.Linq;\n",
    "using System.Text.RegularExpressions;\n",
    "\n",
    "var data = File.ReadAllText(\"inputs/input_day4.txt\");"
   ]
  },
  {
   "cell_type": "code",
   "execution_count": null,
   "metadata": {
    "dotnet_interactive": {
     "language": "csharp"
    }
   },
   "outputs": [],
   "source": [
    "var data = \n",
    "@\"7,4,9,5,11,17,23,2,0,14,21,24,10,16,13,6,15,25,12,22,18,20,8,19,3,26,1\n",
    "\n",
    "22 13 17 11  0\n",
    " 8  2 23  4 24\n",
    "21  9 14 16  7\n",
    " 6 10  3 18  5\n",
    " 1 12 20 15 19\n",
    "\n",
    " 3 15  0  2 22\n",
    " 9 18 13 17  5\n",
    "19  8  7 25 23\n",
    "20 11 10 24  4\n",
    "14 21 16 12  6\n",
    "\n",
    "14 21 17 24  4\n",
    "10 16 15  9 19\n",
    "18  8 23 26 20\n",
    "22 11 13  6  5\n",
    " 2  0 12  3  7\";"
   ]
  },
  {
   "cell_type": "code",
   "execution_count": null,
   "metadata": {
    "dotnet_interactive": {
     "language": "csharp"
    }
   },
   "outputs": [],
   "source": [
    "class Board\n",
    "{\n",
    "    private List<int> _numbers;\n",
    "    private List<bool> _marked;\n",
    "\n",
    "    private Regex _matcher = new Regex(@\"\\d+\", RegexOptions.Compiled);\n",
    "\n",
    "    private bool _won = false;\n",
    "\n",
    "    public Board(string all)\n",
    "    {\n",
    "        var match = _matcher.Matches(all);\n",
    "\n",
    "        _numbers = match\n",
    "            .Select(_ => int.Parse(_.Value))\n",
    "            .ToList();\n",
    "        \n",
    "        _marked = new List<bool>(\n",
    "            Enumerable.Repeat(false, _numbers.Count())\n",
    "        );\n",
    "    }\n",
    "\n",
    "    private bool WinningRowExists => \n",
    "        Enumerable.Range(0, 5)\n",
    "            .Select(\n",
    "                row => \n",
    "                    _marked\n",
    "                        .Skip(row * 5)\n",
    "                        .Take(5)\n",
    "                        .All(_ => _)\n",
    "            )\n",
    "            .Any(_ => _);\n",
    "\n",
    "    private bool WinningColumnExists =>\n",
    "        Enumerable.Range(0, 5)\n",
    "            .Select(\n",
    "                col =>\n",
    "                    Enumerable.Range(0, 5)\n",
    "                        .Select(\n",
    "                            row => _marked[row * 5 + col]\n",
    "                        )\n",
    "                        .All(_ => _)\n",
    "            )\n",
    "            .Any(_ => _);\n",
    "\n",
    "    public int GetScore(int drawnNumber)\n",
    "    {\n",
    "        var index = _numbers.IndexOf(drawnNumber);\n",
    "\n",
    "        if(index == -1 || _won)\n",
    "        {\n",
    "            return 0;\n",
    "        }\n",
    "\n",
    "        _marked[index] = true;\n",
    "\n",
    "        if(!(WinningRowExists || WinningColumnExists))\n",
    "        {\n",
    "            return 0;\n",
    "        }\n",
    "\n",
    "        _won = true;\n",
    "\n",
    "        return drawnNumber * _numbers\n",
    "            .Zip(\n",
    "                _marked,\n",
    "                (number, marked) => marked ? 0 : number\n",
    "            )\n",
    "            .Sum();\n",
    "    }\n",
    "}"
   ]
  },
  {
   "cell_type": "code",
   "execution_count": null,
   "metadata": {
    "dotnet_interactive": {
     "language": "csharp"
    }
   },
   "outputs": [
    {
     "ename": "Error",
     "evalue": "(10,16): error CS0023: Operator '!' cannot be applied to operand of type 'method group'",
     "output_type": "error",
     "traceback": [
      "(10,16): error CS0023: Operator '!' cannot be applied to operand of type 'method group'"
     ]
    }
   ],
   "source": [
    "int[] drawn;\n",
    "\n",
    "var boards = new List<Board>();\n",
    "\n",
    "using(var reader = new StringReader(data))\n",
    "{\n",
    "    drawn = reader\n",
    "        .ReadLine()\n",
    "        .Split(',')\n",
    "        .Where(_ => !string.IsNullOrWhiteSpace(_))\n",
    "        .Select(int.Parse)\n",
    "        .ToArray();\n",
    "\n",
    "    string boardFromFile = \"\";\n",
    "\n",
    "    var lineCounter = 0;\n",
    "\n",
    "    string line;\n",
    "\n",
    "    while((line = reader.ReadLine()) != null)\n",
    "    {\n",
    "        boardFromFile += line + \"\\n\";\n",
    "        ++lineCounter;\n",
    "        \n",
    "        if(lineCounter % 6 == 0)\n",
    "        {\n",
    "            boards.Add(new Board(boardFromFile));\n",
    "            boardFromFile = \"\";\n",
    "        }\n",
    "    }\n",
    "}\n",
    "\n",
    "var winner = drawn\n",
    "    .SelectMany(\n",
    "        number => \n",
    "            boards.Select(board => board.GetScore(number))\n",
    "    )\n",
    "    .Where(score => score != 0)\n",
    "    .Last();\n",
    "\n",
    "Console.WriteLine(winner);"
   ]
  }
 ],
 "metadata": {
  "kernelspec": {
   "display_name": ".NET (C#)",
   "language": "C#",
   "name": ".net-csharp"
  },
  "language_info": {
   "name": "C#"
  }
 },
 "nbformat": 4,
 "nbformat_minor": 2
}
