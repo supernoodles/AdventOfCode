{
 "cells": [
  {
   "cell_type": "code",
   "execution_count": null,
   "metadata": {
    "dotnet_interactive": {
     "language": "csharp"
    }
   },
   "outputs": [],
   "source": [
    "using System;\n",
    "using System.Collections.Generic;\n",
    "using System.IO;\n",
    "using System.Linq;\n",
    "\n",
    "var data = File.ReadAllText(\"inputs/input_day9.txt\");"
   ]
  },
  {
   "cell_type": "code",
   "execution_count": null,
   "metadata": {
    "dotnet_interactive": {
     "language": "csharp"
    }
   },
   "outputs": [],
   "source": [
    "// Test data\n",
    "var data = \n",
    "@\"2199943210\n",
    "3987894921\n",
    "9856789892\n",
    "8767896789\n",
    "9899965678\";"
   ]
  },
  {
   "cell_type": "code",
   "execution_count": null,
   "metadata": {
    "dotnet_interactive": {
     "language": "csharp"
    }
   },
   "outputs": [
    {
     "name": "stdout",
     "output_type": "stream",
     "text": [
      "100 10000\n"
     ]
    }
   ],
   "source": [
    "var heightMap = new List<int>();\n",
    "\n",
    "var width = 0;\n",
    "\n",
    "using(var reader = new StringReader(data))\n",
    "{\n",
    "    string line;\n",
    "    while((line = reader.ReadLine()) != null)\n",
    "    {\n",
    "        if(width == 0)\n",
    "        {\n",
    "            width = line.Length;\n",
    "        }\n",
    "\n",
    "        heightMap.AddRange(\n",
    "            line\n",
    "                .Select((char ch) => int.Parse(ch.ToString()))\n",
    "        );\n",
    "    }\n",
    "}\n",
    "\n",
    "Console.WriteLine(width + \" \" + heightMap.Count());"
   ]
  },
  {
   "cell_type": "code",
   "execution_count": null,
   "metadata": {
    "dotnet_interactive": {
     "language": "csharp"
    }
   },
   "outputs": [
    {
     "name": "stdout",
     "output_type": "stream",
     "text": [
      "566\n"
     ]
    }
   ],
   "source": [
    "var sumOfRiskLevels = Enumerable.Range(0, heightMap.Count())\n",
    "    .Select(index => \n",
    "        {\n",
    "            var left = index - 1;\n",
    "            var right = index + 1;\n",
    "            var top = index - width;\n",
    "            var bottom = index + width;\n",
    "\n",
    "            //Console.WriteLine($\"{index} {left} {right} {top} {bottom}\");\n",
    "\n",
    "            var toCompare = new List<int>();\n",
    "\n",
    "            if(index % width > 0)\n",
    "            {\n",
    "                //Console.WriteLine($\"l={left}\");\n",
    "                toCompare.Add(heightMap[left]);\n",
    "            }\n",
    "\n",
    "            if(index % width < width - 1)\n",
    "            {\n",
    "                //Console.WriteLine($\"r={right}\");\n",
    "                toCompare.Add(heightMap[right]);\n",
    "            }\n",
    "\n",
    "            if(index >= width)\n",
    "            {\n",
    "                //Console.WriteLine($\"t={top}\");\n",
    "                toCompare.Add(heightMap[top]);\n",
    "            }\n",
    "\n",
    "            if(index < heightMap.Count() - width)\n",
    "            {\n",
    "                //Console.WriteLine($\"b={bottom}\");\n",
    "                toCompare.Add(heightMap[bottom]);\n",
    "            }\n",
    "\n",
    "            if(toCompare.All(_ => _ > heightMap[index])) {\n",
    "                return heightMap[index] + 1;\n",
    "            }\n",
    "\n",
    "            return 0;\n",
    "        })\n",
    "        .Sum();\n",
    "\n",
    "Console.WriteLine(sumOfRiskLevels);\n",
    "//Console.WriteLine(string.Join(',', sumOfRiskLevels));"
   ]
  }
 ],
 "metadata": {
  "kernelspec": {
   "display_name": ".NET (C#)",
   "language": "C#",
   "name": ".net-csharp"
  },
  "language_info": {
   "name": "C#"
  }
 },
 "nbformat": 4,
 "nbformat_minor": 2
}
