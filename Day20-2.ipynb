{
 "cells": [
  {
   "cell_type": "code",
   "execution_count": null,
   "metadata": {
    "dotnet_interactive": {
     "language": "csharp"
    }
   },
   "outputs": [],
   "source": [
    "using System;\n",
    "using System.Collections.Generic;\n",
    "using System.IO;\n",
    "using System.Linq;\n",
    "using System.Text.RegularExpressions;\n",
    "\n",
    "var input = File.ReadAllText(\"inputs/input_day20.txt\");"
   ]
  },
  {
   "cell_type": "code",
   "execution_count": null,
   "metadata": {
    "dotnet_interactive": {
     "language": "csharp"
    }
   },
   "outputs": [],
   "source": [
    "// Test data\n",
    "var testInput =\n",
    "@\"..#.#..#####.#.#.#.###.##.....###.##.#..###.####..#####..#....#..#..##..###..######.###...####..#..#####..##..#.#####...##.#.#..#.##..#.#......#.###.######.###.####...#.##.##..#..#..#####.....#.#....###..#.##......#.....#..#..#..##..#...##.######.####.####.#.#...#.......#..#.#.#...####.##.#......#..#...##.#.##..#...##.#.##..###.#......#.#.......#.#.#.####.###.##...#.....####.#..#..#.##.#....##..#.####....##...##..#...#......#.#.......#.......##..####..#...#.#.#...##..#.#..###..#####........#..####......#..#\n",
    "\n",
    "#..#.\n",
    "#....\n",
    "##..#\n",
    "..#..\n",
    "..###\";"
   ]
  },
  {
   "cell_type": "code",
   "execution_count": null,
   "metadata": {
    "dotnet_interactive": {
     "language": "csharp"
    }
   },
   "outputs": [],
   "source": [
    "int MinX = 0;\n",
    "int MaxX = 0;\n",
    "int MinY = 0;\n",
    "int MaxY = 0;"
   ]
  },
  {
   "cell_type": "code",
   "execution_count": null,
   "metadata": {
    "dotnet_interactive": {
     "language": "csharp"
    }
   },
   "outputs": [],
   "source": [
    "int GetNeighbourSquareValue(Dictionary<(int, int), char> image, int x, int y, char background)\n",
    "{\n",
    "    var array = \n",
    "        Enumerable.Range(y - 1, 3)\n",
    "            .SelectMany(row => Enumerable.Range(x - 1, 3)\n",
    "                .Select(col => GetPoint(image, col, row, background))\n",
    "            ).ToArray();\n",
    "\n",
    "    return Convert.ToInt32(new string(array), 2);\n",
    "}\n",
    "\n",
    "char GetPoint(Dictionary<(int,int), char> image, int x, int y, char background) =>\n",
    "    (x < MinX || x > MaxX || y < MinY || y > MaxY)\n",
    "        ? background == '#' \n",
    "            ? '1' \n",
    "            : '0'\n",
    "        : image.TryGetValue((x, y), out var _) \n",
    "            ? '1' \n",
    "            : '0';"
   ]
  },
  {
   "cell_type": "code",
   "execution_count": null,
   "metadata": {
    "dotnet_interactive": {
     "language": "csharp"
    }
   },
   "outputs": [],
   "source": [
    "void Enhance(string allInput, int times)\n",
    "{\n",
    "    var input = allInput\n",
    "        .Split(\"\\n\")\n",
    "        .Where(_ => !string.IsNullOrWhiteSpace(_))\n",
    "        .ToList();\n",
    "\n",
    "    var algorithm = input.First();\n",
    "\n",
    "    var image = new Dictionary<(int, int), char>();\n",
    "\n",
    "    var x = 0;\n",
    "    var y = 0;\n",
    "\n",
    "    MaxX = input.First().Length;\n",
    "    MaxY = input.Count() - 1;\n",
    "\n",
    "    input.Skip(1).ToList().ForEach(line =>\n",
    "    {\n",
    "        x = 0;\n",
    "\n",
    "        foreach(var ch in line)\n",
    "        {\n",
    "            if(ch == '#')\n",
    "            {\n",
    "                image[(x, y)] = ch;\n",
    "            }\n",
    "\n",
    "            ++x;\n",
    "        }\n",
    "        ++y;\n",
    "    });\n",
    "\n",
    "    var background = '.';\n",
    "\n",
    "    foreach(var iteration in Enumerable.Range(1, times))\n",
    "    {\n",
    "        var newImage = new Dictionary<(int, int), char>();\n",
    "\n",
    "        foreach(var row in Enumerable.Range(MinY - 2, MaxY - MinY + 4))\n",
    "        {\n",
    "            foreach (var col in Enumerable.Range(MinX - 2, MaxX - MinX + 4))\n",
    "            {\n",
    "                if (algorithm[GetNeighbourSquareValue(image, col, row, background)] == '#')\n",
    "                {\n",
    "                    newImage[(col, row)] = '#';\n",
    "                }\n",
    "            }\n",
    "        }\n",
    "\n",
    "        MinX--;\n",
    "        MaxX++;\n",
    "        MinY--;\n",
    "        MaxY++;\n",
    "\n",
    "        image = newImage;\n",
    "\n",
    "        if (algorithm[0] == '#')\n",
    "        {\n",
    "            background = background == '.'\n",
    "                ? '#'\n",
    "                : '.';\n",
    "        }\n",
    "    }\n",
    "\n",
    "    Console.WriteLine(image.Count);\n",
    "}"
   ]
  },
  {
   "cell_type": "code",
   "execution_count": null,
   "metadata": {
    "dotnet_interactive": {
     "language": "csharp"
    }
   },
   "outputs": [
    {
     "name": "stdout",
     "output_type": "stream",
     "text": [
      "17965\r\n"
     ]
    }
   ],
   "source": [
    "Enhance(input, 50);"
   ]
  }
 ],
 "metadata": {
  "kernelspec": {
   "display_name": ".NET (C#)",
   "language": "C#",
   "name": ".net-csharp"
  },
  "language_info": {
   "name": "C#"
  }
 },
 "nbformat": 4,
 "nbformat_minor": 2
}
