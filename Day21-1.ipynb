{
 "cells": [
  {
   "cell_type": "code",
   "execution_count": null,
   "metadata": {
    "dotnet_interactive": {
     "language": "csharp"
    }
   },
   "outputs": [],
   "source": [
    "using System;\n",
    "using System.Collections.Generic;\n",
    "using System.IO;\n",
    "using System.Linq;\n",
    "using System.Text.RegularExpressions;\n",
    "\n",
    "var input = File.ReadAllText(\"inputs/input_day21.txt\");"
   ]
  },
  {
   "cell_type": "code",
   "execution_count": null,
   "metadata": {
    "dotnet_interactive": {
     "language": "csharp"
    }
   },
   "outputs": [],
   "source": [
    "void RollFor(int player1Start, int player2start)\n",
    "{\n",
    "    var totalRolls = 0;\n",
    "\n",
    "    var p1 = player1Start;\n",
    "    var p2 = player2start;\n",
    "\n",
    "    var p1Score = 0;\n",
    "    var p2Score = 0;\n",
    "\n",
    "    var dice = Enumerable.Range(1, 10000).ToList();\n",
    "\n",
    "    while(true)\n",
    "    {\n",
    "        var diceRolls = dice.Skip(totalRolls).Take(6);\n",
    "\n",
    "        foreach (var roll in diceRolls.Take(3))\n",
    "        {\n",
    "            p1 = (p1 + (roll - 1) % 100) % 10 + 1;\n",
    "        }\n",
    "        p1Score += p1;\n",
    "\n",
    "        totalRolls += 3;\n",
    "\n",
    "        if(p1Score >= 1000)\n",
    "        {\n",
    "            break;\n",
    "        }\n",
    "\n",
    "        foreach (var roll in diceRolls.Skip(3).Take(3))\n",
    "        {\n",
    "            p2 = (p2 + (roll - 1) % 100) % 10 + 1;\n",
    "        }\n",
    "        p2Score += p2;\n",
    "\n",
    "        totalRolls += 3;\n",
    "\n",
    "        if (p2Score >= 1000)\n",
    "        {\n",
    "            break;\n",
    "        }\n",
    "    }\n",
    "\n",
    "    Console.WriteLine(new[] {p1Score, p2Score}.Min() * totalRolls);\n",
    "}"
   ]
  },
  {
   "cell_type": "code",
   "execution_count": null,
   "metadata": {
    "dotnet_interactive": {
     "language": "csharp"
    }
   },
   "outputs": [
    {
     "name": "stdout",
     "output_type": "stream",
     "text": [
      "1002474\r\n"
     ]
    }
   ],
   "source": [
    "RollFor(5, 6);"
   ]
  }
 ],
 "metadata": {
  "kernelspec": {
   "display_name": ".NET (C#)",
   "language": "C#",
   "name": ".net-csharp"
  },
  "language_info": {
   "name": "C#"
  }
 },
 "nbformat": 4,
 "nbformat_minor": 2
}
