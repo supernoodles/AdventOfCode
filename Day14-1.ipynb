{
 "cells": [
  {
   "cell_type": "code",
   "execution_count": null,
   "metadata": {
    "dotnet_interactive": {
     "language": "csharp"
    }
   },
   "outputs": [],
   "source": [
    "using System;\n",
    "using System.Collections.Generic;\n",
    "using System.IO;\n",
    "using System.Linq;\n",
    "using System.Text.RegularExpressions;\n",
    "\n",
    "var data = File.ReadAllText(\"inputs/input_day14.txt\");"
   ]
  },
  {
   "cell_type": "code",
   "execution_count": null,
   "metadata": {
    "dotnet_interactive": {
     "language": "csharp"
    }
   },
   "outputs": [],
   "source": [
    "// Test data\n",
    "var dataT = \n",
    "@\"NNCB\n",
    "\n",
    "CH -> B\n",
    "HH -> N\n",
    "CB -> H\n",
    "NH -> C\n",
    "HB -> C\n",
    "HC -> B\n",
    "HN -> C\n",
    "NN -> C\n",
    "BH -> H\n",
    "NC -> B\n",
    "NB -> B\n",
    "BN -> B\n",
    "BB -> N\n",
    "BC -> B\n",
    "CC -> N\n",
    "CN -> C\";"
   ]
  },
  {
   "cell_type": "code",
   "execution_count": null,
   "metadata": {
    "dotnet_interactive": {
     "language": "csharp"
    }
   },
   "outputs": [
    {
     "name": "stdout",
     "output_type": "stream",
     "text": [
      "KFFNFNNBCNOBCNPFVKCP 100\r\n"
     ]
    }
   ],
   "source": [
    "var matcher = new Regex(@\"^(\\w{2}) -> (\\w{1})$\", RegexOptions.Compiled);\n",
    "\n",
    "var template = \"\";\n",
    "\n",
    "var insertions = new Dictionary<string, string>();\n",
    "\n",
    "using(var reader = new StringReader(data))\n",
    "{\n",
    "    template = reader.ReadLine();\n",
    "\n",
    "    reader.ReadLine();\n",
    "\n",
    "    string line;\n",
    "    while((line = reader.ReadLine()) != null)\n",
    "    {\n",
    "        var match = matcher.Match(line);\n",
    "\n",
    "        if(!match.Success)\n",
    "        {\n",
    "            continue;\n",
    "        }\n",
    "\n",
    "        insertions.Add(match.Groups[1].Value, match.Groups[2].Value);\n",
    "    }\n",
    "}\n",
    "\n",
    "Console.WriteLine(template + \" \" + insertions.Count);"
   ]
  },
  {
   "cell_type": "code",
   "execution_count": null,
   "metadata": {
    "dotnet_interactive": {
     "language": "csharp"
    }
   },
   "outputs": [
    {
     "ename": "Error",
     "evalue": "System.OperationCanceledException: Command :SubmitCode: var Iterate = (string sequence) =>\r\n    Enumerable ... cancelled.",
     "output_type": "error",
     "traceback": [
      "System.OperationCanceledException: Command :SubmitCode: var Iterate = (string sequence) =>\r\n",
      "    Enumerable ... cancelled."
     ]
    }
   ],
   "source": [
    "var Iterate = (string sequence) =>\n",
    "    Enumerable.Range(0, sequence.Count() - 1)\n",
    "        .Select(index => sequence.Skip(index).Take(2).Aggregate(\"\", (a,c) => a + c))\n",
    "        .SelectMany(pair => pair[0] + insertions[pair])\n",
    "        .Append(sequence.Last())\n",
    "        .ToArray();\n",
    "\n",
    "var polymer = template;\n",
    "\n",
    "for(var loop = 0; loop < 40; ++loop)\n",
    "{\n",
    "    polymer = new string(Iterate(polymer));\n",
    "}\n",
    "\n",
    "var counts = polymer.GroupBy(_ => _).Select(_ => _.Count()).OrderByDescending(_ => _);\n",
    "\n",
    "Console.WriteLine(counts.First() - counts.Last());\n"
   ]
  }
 ],
 "metadata": {
  "kernelspec": {
   "display_name": ".NET (C#)",
   "language": "C#",
   "name": ".net-csharp"
  },
  "language_info": {
   "name": "C#"
  }
 },
 "nbformat": 4,
 "nbformat_minor": 2
}
