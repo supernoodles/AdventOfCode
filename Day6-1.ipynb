{
 "cells": [
  {
   "cell_type": "code",
   "execution_count": null,
   "metadata": {
    "dotnet_interactive": {
     "language": "csharp"
    }
   },
   "outputs": [],
   "source": [
    "using System;\n",
    "using System.Collections.Generic;\n",
    "using System.IO;\n",
    "using System.Linq;\n",
    "\n",
    "var data = File.ReadAllText(\"inputs/input_day6.txt\");"
   ]
  },
  {
   "cell_type": "code",
   "execution_count": null,
   "metadata": {
    "dotnet_interactive": {
     "language": "csharp"
    }
   },
   "outputs": [],
   "source": [
    "// Test data\n",
    "var data = \"3,4,3,1,2\";"
   ]
  },
  {
   "cell_type": "code",
   "execution_count": null,
   "metadata": {
    "dotnet_interactive": {
     "language": "csharp"
    }
   },
   "outputs": [
    {
     "name": "stdout",
     "output_type": "stream",
     "text": [
      "4\n",
      "351188\n"
     ]
    }
   ],
   "source": [
    "var fishTimers = data.Split(',')\n",
    "    .Where(_ => !string.IsNullOrWhiteSpace(_))\n",
    "    .Select(int.Parse)\n",
    "    .ToList();\n",
    "\n",
    "for(var days = 1; days <= 80; ++days)\n",
    "{\n",
    "    var newFishCount = 0;\n",
    "\n",
    "    for(var index = 0; index < fishTimers.Count; ++index)\n",
    "    {\n",
    "        fishTimers[index] -= 1;\n",
    "        if(fishTimers[index] < 0)\n",
    "        {\n",
    "            fishTimers[index] = 6;\n",
    "            ++newFishCount;\n",
    "        }\n",
    "    }\n",
    "\n",
    "    fishTimers.AddRange(Enumerable.Repeat(8, newFishCount));\n",
    "}\n",
    "\n",
    "Console.WriteLine(fishTimers.Count);"
   ]
  }
 ],
 "metadata": {
  "kernelspec": {
   "display_name": ".NET (C#)",
   "language": "C#",
   "name": ".net-csharp"
  },
  "language_info": {
   "name": "C#"
  }
 },
 "nbformat": 4,
 "nbformat_minor": 2
}
