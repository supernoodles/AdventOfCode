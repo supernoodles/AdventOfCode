{
 "cells": [
  {
   "cell_type": "code",
   "execution_count": null,
   "metadata": {
    "dotnet_interactive": {
     "language": "csharp"
    }
   },
   "outputs": [],
   "source": [
    "using System;\n",
    "using System.Collections.Generic;\n",
    "using System.IO;\n",
    "using System.Linq;\n",
    "using System.Text.RegularExpressions;"
   ]
  },
  {
   "cell_type": "code",
   "execution_count": null,
   "metadata": {
    "dotnet_interactive": {
     "language": "csharp"
    }
   },
   "outputs": [],
   "source": [
    "internal class Player\n",
    "{\n",
    "    public int Pos { get; set; }\n",
    "    public int Score { get; set; }\n",
    "\n",
    "    public Player(int pos, int score) {  Pos = pos; Score = score; }\n",
    "}"
   ]
  },
  {
   "cell_type": "code",
   "execution_count": null,
   "metadata": {
    "dotnet_interactive": {
     "language": "csharp"
    }
   },
   "outputs": [],
   "source": [
    "Dictionary<int,int> possibleQuantumScoreCounts = new();\n",
    "\n",
    "long[] wins = new []{0L,0L};"
   ]
  },
  {
   "cell_type": "code",
   "execution_count": null,
   "metadata": {
    "dotnet_interactive": {
     "language": "csharp"
    }
   },
   "outputs": [],
   "source": [
    "void QuantumRollFor(Player[] players, int playerTurn, long waysToReachStateSoFar)\n",
    "{\n",
    "    foreach(var pair in possibleQuantumScoreCounts)\n",
    "    {\n",
    "        var playersCopy = new[] { new Player(players[0].Pos, players[0].Score), new Player(players[1].Pos, players[1].Score) };\n",
    "\n",
    "        var player = playersCopy[playerTurn];\n",
    "\n",
    "        var newWaysToReachState = waysToReachStateSoFar * pair.Value;\n",
    "\n",
    "        player.Pos = ((player.Pos + pair.Key - 1) % 10) + 1;\n",
    "\n",
    "        player.Score += player.Pos;\n",
    "\n",
    "        if(player.Score >= 21)\n",
    "        {\n",
    "            wins[playerTurn] += newWaysToReachState;\n",
    "            continue;\n",
    "        }\n",
    "        QuantumRollFor(playersCopy, 1 - playerTurn, newWaysToReachState);\n",
    "    }\n",
    "}"
   ]
  },
  {
   "cell_type": "code",
   "execution_count": null,
   "metadata": {
    "dotnet_interactive": {
     "language": "csharp"
    }
   },
   "outputs": [],
   "source": [
    "void Prepare()\n",
    "{ \n",
    "    var allScores = Enumerable.Range(1, 3)\n",
    "        .SelectMany(die1 => Enumerable.Range(1, 3)\n",
    "        .SelectMany(die2 => Enumerable.Range(1, 3)\n",
    "        .Select(die3 => die1 + die2 + die3)));\n",
    "\n",
    "    foreach(var score in allScores)\n",
    "    {\n",
    "        if(possibleQuantumScoreCounts.ContainsKey(score))\n",
    "        {\n",
    "            possibleQuantumScoreCounts[score]++;\n",
    "            continue;\n",
    "        }\n",
    "        possibleQuantumScoreCounts.Add(score, 1);\n",
    "    }\n",
    "\n",
    "    Console.WriteLine(possibleQuantumScoreCounts.Count);\n",
    "}"
   ]
  },
  {
   "cell_type": "code",
   "execution_count": null,
   "metadata": {
    "dotnet_interactive": {
     "language": "csharp"
    }
   },
   "outputs": [
    {
     "name": "stdout",
     "output_type": "stream",
     "text": [
      "7\r\n",
      "919758187195363\r\n",
      "635572886949720\r\n"
     ]
    }
   ],
   "source": [
    "Prepare();\n",
    "\n",
    "//var players = new[] { new Player(4, 0), new Player(8, 0) };\n",
    "var players = new[] { new Player(5, 0), new Player(6, 0) };\n",
    "\n",
    "QuantumRollFor(players, 0, 1);\n",
    "\n",
    "Console.WriteLine(wins[0]);\n",
    "Console.WriteLine(wins[1]);"
   ]
  }
 ],
 "metadata": {
  "kernelspec": {
   "display_name": ".NET (C#)",
   "language": "C#",
   "name": ".net-csharp"
  },
  "language_info": {
   "name": "C#"
  }
 },
 "nbformat": 4,
 "nbformat_minor": 2
}
