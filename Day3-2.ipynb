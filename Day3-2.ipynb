{
 "cells": [
  {
   "cell_type": "code",
   "execution_count": null,
   "metadata": {
    "dotnet_interactive": {
     "language": "csharp"
    }
   },
   "outputs": [],
   "source": [
    "using System;\n",
    "using System.IO;\n",
    "using System.Linq;\n",
    "\n",
    "var datafile = File.ReadAllText(\"inputs/input_day3.txt\");"
   ]
  },
  {
   "cell_type": "code",
   "execution_count": null,
   "metadata": {
    "dotnet_interactive": {
     "language": "csharp"
    }
   },
   "outputs": [],
   "source": [
    "// Test data\n",
    "\n",
    "var datafile = \n",
    "@\"\n",
    "00100\n",
    "11110\n",
    "10110\n",
    "10111\n",
    "10101\n",
    "01111\n",
    "00111\n",
    "11100\n",
    "10000\n",
    "11001\n",
    "00010\n",
    "01010\n",
    "\";"
   ]
  },
  {
   "cell_type": "code",
   "execution_count": null,
   "metadata": {
    "dotnet_interactive": {
     "language": "csharp"
    }
   },
   "outputs": [],
   "source": [
    "int GetRating(List<string> list, Func<int,int,int> filterFunc)\n",
    "{\n",
    "    var bitSize = list.First().Length;\n",
    "\n",
    "    var converted = \n",
    "        list\n",
    "            .Select(_ => Convert.ToInt32(_, 2))\n",
    "            .ToList();\n",
    "\n",
    "    var currentBit = bitSize - 1;\n",
    "    \n",
    "    while(converted.Count() > 1)\n",
    "    {\n",
    "        var ones = \n",
    "            converted\n",
    "                .Select(num => (num & (1 << currentBit)) >> currentBit)\n",
    "                .Sum();\n",
    "    \n",
    "        var zeroes = converted.Count() - ones;\n",
    "    \n",
    "        var filter = filterFunc(zeroes, ones);\n",
    "    \n",
    "        converted = new List<int>(\n",
    "            converted\n",
    "                .Where(_ => ((_ & (1 << currentBit)) >> currentBit) == filter)\n",
    "        );\n",
    "    \n",
    "        --currentBit;\n",
    "    }\n",
    "    \n",
    "    return converted.First();\n",
    "}"
   ]
  },
  {
   "cell_type": "code",
   "execution_count": null,
   "metadata": {
    "dotnet_interactive": {
     "language": "csharp"
    }
   },
   "outputs": [
    {
     "name": "stdout",
     "output_type": "stream",
     "text": [
      "3443\n",
      "1357\n",
      "Life support rating = 4672151\n"
     ]
    }
   ],
   "source": [
    "var list = \n",
    "    datafile\n",
    "        .Split(Environment.NewLine)\n",
    "        .Where(_ => !string.IsNullOrWhiteSpace(_))\n",
    "        .ToList();\n",
    "\n",
    "var o2GeneratorRating = GetRating(\n",
    "    list,\n",
    "    (zeroes, ones) => ones >= zeroes ? 1 : 0\n",
    ");\n",
    "\n",
    "var co2ScrubberRating = GetRating(\n",
    "    list,\n",
    "    (zeroes, ones) => zeroes <= ones ? 0 : 1\n",
    ");\n",
    "\n",
    "Console.WriteLine(o2GeneratorRating);\n",
    "Console.WriteLine(co2ScrubberRating);\n",
    "\n",
    "Console.WriteLine($\"Life support rating = {o2GeneratorRating * co2ScrubberRating}\");"
   ]
  }
 ],
 "metadata": {
  "kernelspec": {
   "display_name": ".NET (C#)",
   "language": "C#",
   "name": ".net-csharp"
  },
  "language_info": {
   "name": "C#"
  }
 },
 "nbformat": 4,
 "nbformat_minor": 2
}
