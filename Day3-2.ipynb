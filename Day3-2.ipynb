{
 "cells": [
  {
   "cell_type": "code",
   "execution_count": null,
   "metadata": {
    "dotnet_interactive": {
     "language": "csharp"
    }
   },
   "outputs": [],
   "source": [
    "using System;\n",
    "using System.IO;\n",
    "\n",
    "var datafile = File.ReadAllText(\"inputs/input_day3.txt\");"
   ]
  },
  {
   "cell_type": "code",
   "execution_count": null,
   "metadata": {
    "dotnet_interactive": {
     "language": "csharp"
    }
   },
   "outputs": [],
   "source": [
    "// Test data\n",
    "\n",
    "var datafile = \n",
    "@\"\n",
    "00100\n",
    "11110\n",
    "10110\n",
    "10111\n",
    "10101\n",
    "01111\n",
    "00111\n",
    "11100\n",
    "10000\n",
    "11001\n",
    "00010\n",
    "01010\n",
    "\";"
   ]
  },
  {
   "cell_type": "code",
   "execution_count": null,
   "metadata": {
    "dotnet_interactive": {
     "language": "csharp"
    }
   },
   "outputs": [
    {
     "name": "stdout",
     "output_type": "stream",
     "text": [
      "3808\n",
      "287\n",
      "1092896\n"
     ]
    }
   ],
   "source": [
    "using System.Linq;\n",
    "\n",
    "var list = \n",
    "    datafile\n",
    "        .Split(Environment.NewLine)\n",
    "        .Where(_ => !string.IsNullOrWhiteSpace(_))\n",
    "        .ToList();\n",
    "\n",
    "var bitSize = list.First().Length;\n",
    "\n",
    "long gamma = \n",
    "    Enumerable.Range(0, bitSize)\n",
    "        .Select(bit => \n",
    "            {\n",
    "                var ones = \n",
    "                    list\n",
    "                        .Select(_ => Convert.ToInt32(_, 2))\n",
    "                        .Select(num => (num & (1 << bit)) >> bit)\n",
    "                        .Sum();\n",
    "\n",
    "                return ones > list.Count() - ones\n",
    "                    ? 1 << bit\n",
    "                    : 0;\n",
    "            }\n",
    "        )\n",
    "        .Sum();\n",
    "\n",
    "long epsilon = ~gamma & ((1 << bitSize) - 1);\n",
    "\n",
    "Console.WriteLine(gamma);\n",
    "\n",
    "Console.WriteLine(epsilon);\n",
    "\n",
    "Console.WriteLine(gamma * epsilon);\n"
   ]
  }
 ],
 "metadata": {
  "kernelspec": {
   "display_name": ".NET (C#)",
   "language": "C#",
   "name": ".net-csharp"
  },
  "language_info": {
   "name": "C#"
  }
 },
 "nbformat": 4,
 "nbformat_minor": 2
}
