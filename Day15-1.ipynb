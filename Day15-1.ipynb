{
 "cells": [
  {
   "cell_type": "code",
   "execution_count": null,
   "metadata": {
    "dotnet_interactive": {
     "language": "csharp"
    }
   },
   "outputs": [],
   "source": [
    "using System;\n",
    "using System.Collections.Generic;\n",
    "using System.IO;\n",
    "using System.Linq;\n",
    "using System.Text.RegularExpressions;\n",
    "\n",
    "var dataF = File.ReadAllText(\"inputs/input_day15.txt\");"
   ]
  },
  {
   "cell_type": "code",
   "execution_count": null,
   "metadata": {
    "dotnet_interactive": {
     "language": "csharp"
    }
   },
   "outputs": [],
   "source": [
    "// Test data\n",
    "var data = \n",
    "@\"1163751742\n",
    "1381373672\n",
    "2136511328\n",
    "3694931569\n",
    "7463417111\n",
    "1319128137\n",
    "1359912421\n",
    "3125421639\n",
    "1293138521\n",
    "2311944581\";"
   ]
  },
  {
   "cell_type": "code",
   "execution_count": null,
   "metadata": {
    "dotnet_interactive": {
     "language": "csharp"
    }
   },
   "outputs": [
    {
     "name": "stdout",
     "output_type": "stream",
     "text": [
      "100\n"
     ]
    }
   ],
   "source": [
    "public class RiskLevel\n",
    "{\n",
    "    public int X {get;set;}\n",
    "    public int Y {get;set;}\n",
    "    public int Risk {get;set;}\n",
    "    public int Distance {get;set;}\n",
    "    public bool Visited {get;set;}\n",
    "\n",
    "    public override string ToString() => $\"X={X} Y={Y} Risk={Risk} Distance={Distance} Visited={Visited}\";\n",
    "}\n",
    "\n",
    "var all = new List<RiskLevel>();\n",
    "\n",
    "var width = 0;\n",
    "\n",
    "var y = 0;\n",
    "\n",
    "using(var reader = new StringReader(data))\n",
    "{\n",
    "    string line;\n",
    "    while((line = reader.ReadLine()) != null)\n",
    "    {\n",
    "        if(width == 0)\n",
    "        {\n",
    "            width = line.Length;\n",
    "        }\n",
    "\n",
    "        var x = 0;\n",
    "\n",
    "        foreach(var ch in line)\n",
    "        {\n",
    "            all.Add(new RiskLevel{X = x, Y = y, Risk = (int)Char.GetNumericValue(ch), Distance = int.MaxValue, Visited = false});\n",
    "\n",
    "            x += 1;\n",
    "        }\n",
    "\n",
    "        y += 1;\n",
    "    }\n",
    "}\n",
    "\n",
    "Console.WriteLine(all.Count);"
   ]
  },
  {
   "cell_type": "code",
   "execution_count": null,
   "metadata": {
    "dotnet_interactive": {
     "language": "csharp"
    }
   },
   "outputs": [
    {
     "name": "stdout",
     "output_type": "stream",
     "text": [
      "X=99 Y=99 Risk=8 Distance=595 Visited=False\n"
     ]
    }
   ],
   "source": [
    "var current = all.First();\n",
    "current.Distance = 0;\n",
    "\n",
    "record Point(int X, int Y);\n",
    "\n",
    "var neighbours = (Point p) => new[] {\n",
    "    p.X - 1 >= 0 ? new Point(p.X - 1, p.Y) : null,\n",
    "    p.X + 1 < width ? new Point(p.X + 1, p.Y) : null,\n",
    "    p.Y - 1 >= 0 ? new Point(p.X, p.Y - 1) : null,\n",
    "    p.Y + 1 < width ? new Point(p.X, p.Y + 1) : null\n",
    "}.Where(_ => _ != null);\n",
    "\n",
    "while(current != all.Last())\n",
    "{\n",
    "    foreach(var neighbour in neighbours(new Point(current.X, current.Y)))\n",
    "    {\n",
    "        var node = all.Where(_ => _.X == neighbour.X && _.Y == neighbour.Y).First();\n",
    "\n",
    "        if(node.Visited)\n",
    "        {\n",
    "            continue;\n",
    "        }\n",
    "\n",
    "        var distance = current.Distance + node.Risk;\n",
    "\n",
    "        if(distance < node.Distance)\n",
    "        {\n",
    "            node.Distance = distance;\n",
    "        }\n",
    "    }\n",
    "\n",
    "    current.Visited = true;\n",
    "\n",
    "    current = all.Where(_ => !_.Visited).MinBy(_ => _.Distance);\n",
    "}\n",
    "\n",
    "Console.WriteLine(all.Last());"
   ]
  },
  {
   "cell_type": "code",
   "execution_count": null,
   "metadata": {
    "dotnet_interactive": {
     "language": "csharp"
    }
   },
   "outputs": [
    {
     "name": "stdout",
     "output_type": "stream",
     "text": [
      "X=9 Y=9 Risk=1 Distance=40 Visited=True\n"
     ]
    }
   ],
   "source": [
    "// Try PriorityQueue\n",
    "var current = all.First();\n",
    "current.Distance = 0;\n",
    "\n",
    "record Point(int X, int Y);\n",
    "\n",
    "var neighbours = (Point p) => new[] {\n",
    "    p.X - 1 >= 0 ? new Point(p.X - 1, p.Y) : null,\n",
    "    p.X + 1 < width ? new Point(p.X + 1, p.Y) : null,\n",
    "    p.Y - 1 >= 0 ? new Point(p.X, p.Y - 1) : null,\n",
    "    p.Y + 1 < width ? new Point(p.X, p.Y + 1) : null\n",
    "}.Where(_ => _ != null);\n",
    "\n",
    "var queue = new PriorityQueue<RiskLevel, int>();\n",
    "queue.Enqueue(current, 0);\n",
    "\n",
    "while(queue.TryDequeue(out current, out _))\n",
    "{\n",
    "    foreach(var neighbour in neighbours(new Point(current.X, current.Y)))\n",
    "    {\n",
    "        var node = all.Where(_ => _.X == neighbour.X && _.Y == neighbour.Y).First();\n",
    "\n",
    "        if(node.Visited)\n",
    "        {\n",
    "            continue;\n",
    "        }\n",
    "\n",
    "        var distance = current.Distance + node.Risk;\n",
    "\n",
    "        if(distance < node.Distance)\n",
    "        {\n",
    "            node.Distance = distance;\n",
    "            queue.Enqueue(node, distance);\n",
    "        }\n",
    "    }\n",
    "\n",
    "    current.Visited = true;\n",
    "\n",
    "    // current = all.Where(_ => !_.Visited).MinBy(_ => _.Distance);\n",
    "}\n",
    "\n",
    "Console.WriteLine(all.Last());"
   ]
  }
 ],
 "metadata": {
  "kernelspec": {
   "display_name": ".NET (C#)",
   "language": "C#",
   "name": ".net-csharp"
  },
  "language_info": {
   "name": "C#"
  }
 },
 "nbformat": 4,
 "nbformat_minor": 2
}
