{
 "cells": [
  {
   "cell_type": "code",
   "execution_count": null,
   "metadata": {
    "dotnet_interactive": {
     "language": "csharp"
    }
   },
   "outputs": [],
   "source": [
    "using System;\n",
    "using System.Collections.Generic;\n",
    "using System.IO;\n",
    "using System.Linq;\n",
    "using System.Text.RegularExpressions;\n",
    "\n",
    "var data = File.ReadAllText(\"inputs/input_day15.txt\");"
   ]
  },
  {
   "cell_type": "code",
   "execution_count": null,
   "metadata": {
    "dotnet_interactive": {
     "language": "csharp"
    }
   },
   "outputs": [],
   "source": [
    "// Test data\n",
    "var dataT = \n",
    "@\"1163751742\n",
    "1381373672\n",
    "2136511328\n",
    "3694931569\n",
    "7463417111\n",
    "1319128137\n",
    "1359912421\n",
    "3125421639\n",
    "1293138521\n",
    "2311944581\";"
   ]
  },
  {
   "cell_type": "code",
   "execution_count": null,
   "metadata": {
    "dotnet_interactive": {
     "language": "csharp"
    }
   },
   "outputs": [
    {
     "name": "stdout",
     "output_type": "stream",
     "text": [
      "10000\n"
     ]
    }
   ],
   "source": [
    "public class RiskLevel\n",
    "{\n",
    "    public int X {get;set;}\n",
    "    public int Y {get;set;}\n",
    "    public int Risk {get;set;}\n",
    "    public int Distance {get;set;}\n",
    "    public bool Visited {get;set;}\n",
    "\n",
    "    public override string ToString() => $\"X={X} Y={Y} Risk={Risk} Distance={Distance} Visited={Visited}\";\n",
    "}\n",
    "\n",
    "var all = new Dictionary<(int,int),RiskLevel>();\n",
    "\n",
    "var width = 0;\n",
    "\n",
    "var y = 0;\n",
    "\n",
    "using(var reader = new StringReader(data))\n",
    "{\n",
    "    string line;\n",
    "    while((line = reader.ReadLine()) != null)\n",
    "    {\n",
    "        if(width == 0)\n",
    "        {\n",
    "            width = line.Length;\n",
    "        }\n",
    "\n",
    "        var x = 0;\n",
    "\n",
    "        foreach(var ch in line)\n",
    "        {\n",
    "            all.Add((x,y), new RiskLevel{X = x, Y = y, Risk = (int)Char.GetNumericValue(ch), Distance = int.MaxValue, Visited = false});\n",
    "\n",
    "            x += 1;\n",
    "        }\n",
    "\n",
    "        y += 1;\n",
    "    }\n",
    "}\n",
    "\n",
    "Console.WriteLine(all.Count);"
   ]
  },
  {
   "cell_type": "code",
   "execution_count": null,
   "metadata": {
    "dotnet_interactive": {
     "language": "csharp"
    }
   },
   "outputs": [
    {
     "name": "stdout",
     "output_type": "stream",
     "text": [
      "[(99, 99), X=99 Y=99 Risk=8 Distance=595 Visited=True]\n"
     ]
    }
   ],
   "source": [
    "// Try PriorityQueue\n",
    "var current = all[(0,0)];\n",
    "current.Distance = 0;\n",
    "\n",
    "var outOfBounds = (-1, -1);\n",
    "\n",
    "var neighbours = (int X, int Y) => \n",
    "    new (int,int)[] \n",
    "    {\n",
    "        X - 1 >= 0 ? (X - 1, Y) : outOfBounds,\n",
    "        X + 1 < width ? (X + 1, Y) : outOfBounds,\n",
    "        Y - 1 >= 0 ? (X, Y - 1) : outOfBounds,\n",
    "        Y + 1 < width ? (X, Y + 1) : outOfBounds\n",
    "    }.Where(_ => _ != outOfBounds);\n",
    "\n",
    "var queue = new PriorityQueue<RiskLevel, int>();\n",
    "queue.Enqueue(current, 0);\n",
    "\n",
    "while(queue.TryDequeue(out current, out _))\n",
    "{\n",
    "    foreach(var neighbour in neighbours(current.X, current.Y))\n",
    "    {\n",
    "        var node = all[neighbour];\n",
    "\n",
    "        if(node.Visited)\n",
    "        {\n",
    "            continue;\n",
    "        }\n",
    "\n",
    "        var distance = current.Distance + node.Risk;\n",
    "\n",
    "        if(distance < node.Distance)\n",
    "        {\n",
    "            node.Distance = distance;\n",
    "            queue.Enqueue(node, distance);\n",
    "        }\n",
    "    }\n",
    "\n",
    "    current.Visited = true;\n",
    "}\n",
    "\n",
    "Console.WriteLine(all.Last());"
   ]
  }
 ],
 "metadata": {
  "kernelspec": {
   "display_name": ".NET (C#)",
   "language": "C#",
   "name": ".net-csharp"
  },
  "language_info": {
   "name": "C#"
  }
 },
 "nbformat": 4,
 "nbformat_minor": 2
}
