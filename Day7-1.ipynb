{
 "cells": [
  {
   "cell_type": "code",
   "execution_count": null,
   "metadata": {
    "dotnet_interactive": {
     "language": "csharp"
    }
   },
   "outputs": [],
   "source": [
    "using System;\n",
    "using System.Collections.Generic;\n",
    "using System.IO;\n",
    "using System.Linq;\n",
    "\n",
    "var data = File.ReadAllText(\"inputs/input_day7.txt\");"
   ]
  },
  {
   "cell_type": "code",
   "execution_count": null,
   "metadata": {
    "dotnet_interactive": {
     "language": "csharp"
    }
   },
   "outputs": [],
   "source": [
    "// Test data\n",
    "var data = \"16,1,2,0,4,2,7,1,2,14\";"
   ]
  },
  {
   "cell_type": "code",
   "execution_count": null,
   "metadata": {
    "dotnet_interactive": {
     "language": "csharp"
    }
   },
   "outputs": [
    {
     "name": "stdout",
     "output_type": "stream",
     "text": [
      "353800\n"
     ]
    }
   ],
   "source": [
    "var horizontalPositions = data.Split(',')\n",
    "    .Where(_ => !string.IsNullOrWhiteSpace(_))\n",
    "    .Select(int.Parse)\n",
    "    .ToList();\n",
    "\n",
    "var positions = horizontalPositions.Distinct();\n",
    "\n",
    "var cheapest = positions\n",
    "    .Select(\n",
    "        position => horizontalPositions\n",
    "            .Select(horizontalPosition => Math.Abs(horizontalPosition - position))\n",
    "            .Sum()\n",
    "    )\n",
    "    .Min();\n",
    "\n",
    "Console.WriteLine(cheapest);"
   ]
  }
 ],
 "metadata": {
  "kernelspec": {
   "display_name": ".NET (C#)",
   "language": "C#",
   "name": ".net-csharp"
  },
  "language_info": {
   "name": "C#"
  }
 },
 "nbformat": 4,
 "nbformat_minor": 2
}
