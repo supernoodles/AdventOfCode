{
 "cells": [
  {
   "cell_type": "code",
   "execution_count": null,
   "metadata": {
    "dotnet_interactive": {
     "language": "csharp"
    }
   },
   "outputs": [],
   "source": [
    "using System;\n",
    "using System.Collections.Generic;\n",
    "using System.IO;\n",
    "using System.Linq;\n",
    "\n",
    "var data = File.ReadAllText(\"inputs/input_day8.txt\");"
   ]
  },
  {
   "cell_type": "code",
   "execution_count": null,
   "metadata": {
    "dotnet_interactive": {
     "language": "csharp"
    }
   },
   "outputs": [],
   "source": [
    "// Test data\n",
    "var data = \n",
    "@\"be cfbegad cbdgef fgaecd cgeb fdcge agebfd fecdb fabcd edb | fdgacbe cefdb cefbgd gcbe\n",
    "edbfga begcd cbg gc gcadebf fbgde acbgfd abcde gfcbed gfec | fcgedb cgb dgebacf gc\n",
    "fgaebd cg bdaec gdafb agbcfd gdcbef bgcad gfac gcb cdgabef | cg cg fdcagb cbg\n",
    "fbegcd cbd adcefb dageb afcb bc aefdc ecdab fgdeca fcdbega | efabcd cedba gadfec cb\n",
    "aecbfdg fbg gf bafeg dbefa fcge gcbea fcaegb dgceab fcbdga | gecf egdcabf bgf bfgea\n",
    "fgeab ca afcebg bdacfeg cfaedg gcfdb baec bfadeg bafgc acf | gebdcfa ecba ca fadegcb\n",
    "dbcfg fgd bdegcaf fgec aegbdf ecdfab fbedc dacgb gdcebf gf | cefg dcbef fcge gbcadfe\n",
    "bdfegc cbegaf gecbf dfcage bdacg ed bedf ced adcbefg gebcd | ed bcgafe cdgba cbgef\n",
    "egadfb cdbfeg cegd fecab cgb gbdefca cg fgcdab egfdb bfceg | gbdfcae bgc cg cgb\n",
    "gcafb gcf dcaebfg ecagb gf abcdeg gaef cafbge fdbac fegbdc | fgae cfgab fg bagce\n",
    "\";\n",
    "\n",
    "var data_small = \n",
    "@\"acedgfb cdfbe gcdfa fbcad dab cefabd cdfgeb eafb cagedb ab | cdfeb fcadb cdfeb cdbaf\";"
   ]
  },
  {
   "cell_type": "code",
   "execution_count": null,
   "metadata": {
    "dotnet_interactive": {
     "language": "csharp"
    }
   },
   "outputs": [],
   "source": [
    "var sortedString = (string s) => s.OrderBy(_ => _).Aggregate(\"\", (a,ch) => a+ch);"
   ]
  },
  {
   "cell_type": "code",
   "execution_count": null,
   "metadata": {
    "dotnet_interactive": {
     "language": "csharp"
    }
   },
   "outputs": [
    {
     "name": "stdout",
     "output_type": "stream",
     "text": [
      "1027422\n"
     ]
    }
   ],
   "source": [
    "var sum = 0;\n",
    "\n",
    "using(var reader = new StringReader(data))\n",
    "{\n",
    "    string line;\n",
    "    while((line = reader.ReadLine()) != null)\n",
    "    {\n",
    "        var io = line.Split('|');\n",
    "\n",
    "        var inputs = new List<string>(\n",
    "            io[0]\n",
    "            .Split(' ')\n",
    "            .Where(_ => !string.IsNullOrWhiteSpace(_))\n",
    "        );\n",
    "\n",
    "        var outputs = new List<string>(\n",
    "            io[1]\n",
    "            .Split(' ')\n",
    "            .Where(_ => !string.IsNullOrWhiteSpace(_))\n",
    "        );\n",
    "\n",
    "        var no1 = inputs.Where(_ => _.Length == 2).First();\n",
    "        var no7 = inputs.Where(_ => _.Length == 3).First();\n",
    "        var no4 = inputs.Where(_ => _.Length == 4).First();\n",
    "        var no8 = inputs.Where(_ => _.Length == 7).First();\n",
    "\n",
    "        var len5 = inputs.Where(_ => _.Length == 5);\n",
    "        var len6 = inputs.Where(_ => _.Length == 6);\n",
    "\n",
    "        var topLeftAndMiddle = no4.Except(no1);\n",
    "\n",
    "        var no0 = len6\n",
    "            .Where(_ => _.Intersect(topLeftAndMiddle).Count() == 1)\n",
    "            .First();\n",
    "\n",
    "        var no3 = len5\n",
    "            .Where(_ => _.Intersect(no1).Count() == 2)\n",
    "            .First();\n",
    "\n",
    "        var no5 = len5\n",
    "            .Where(_ => _.Intersect(topLeftAndMiddle).Count() == 2)\n",
    "            .First();\n",
    "\n",
    "        var no2 = len5.Except(new[] {no3, no5})\n",
    "            .First();\n",
    "\n",
    "        var no9 = len6\n",
    "            .Except(new[]{no0})\n",
    "            .Where(_ => _.Intersect(no1).Count() == 2)\n",
    "            .First();\n",
    "\n",
    "        var no6 = len6.Except(new[] {no0, no9}).First();\n",
    "\n",
    "        var lookup = new[]{no0, no1, no2, no3, no4, no5, no6, no7, no8, no9}\n",
    "            .Select(_ => sortedString(_))\n",
    "            .ToList();\n",
    "\n",
    "        var answer = outputs\n",
    "            .Aggregate(\"\", (soFar, value) => soFar + lookup.IndexOf(sortedString(value)));\n",
    "\n",
    "        sum += int.Parse(answer);\n",
    "    }\n",
    "}\n",
    "\n",
    "Console.WriteLine(sum);"
   ]
  }
 ],
 "metadata": {
  "kernelspec": {
   "display_name": ".NET (C#)",
   "language": "C#",
   "name": ".net-csharp"
  },
  "language_info": {
   "name": "C#"
  }
 },
 "nbformat": 4,
 "nbformat_minor": 2
}
