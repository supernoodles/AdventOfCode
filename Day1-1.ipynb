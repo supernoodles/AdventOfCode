{
 "cells": [
  {
   "cell_type": "code",
   "execution_count": null,
   "metadata": {
    "dotnet_interactive": {
     "language": "csharp"
    }
   },
   "outputs": [
    {
     "name": "stdout",
     "output_type": "stream",
     "text": [
      "9583\n"
     ]
    }
   ],
   "source": [
    "using System;\n",
    "using System.IO;\n",
    "\n",
    "var datafile = File.ReadAllText(\"inputs/input_day1.txt\");\n",
    "\n",
    "Console.WriteLine(datafile.Length);"
   ]
  },
  {
   "cell_type": "code",
   "execution_count": null,
   "metadata": {
    "dotnet_interactive": {
     "language": "csharp"
    }
   },
   "outputs": [],
   "source": [
    "using System.Linq;\n",
    "\n",
    "var items = \n",
    "    datafile\n",
    "        .Split(\"\\n\")\n",
    "        .Where(_ => !string.IsNullOrWhiteSpace(_))\n",
    "        .Select(_ => int.Parse(_))\n",
    "        .ToArray();"
   ]
  },
  {
   "cell_type": "code",
   "execution_count": null,
   "metadata": {
    "dotnet_interactive": {
     "language": "csharp"
    }
   },
   "outputs": [
    {
     "name": "stdout",
     "output_type": "stream",
     "text": [
      "1301\n"
     ]
    }
   ],
   "source": [
    "var count = Enumerable.Range(1, items.Count() - 1)\n",
    "    .Where(index => items[index] > items[index-1])\n",
    "    .Count();\n",
    "\n",
    "Console.WriteLine(count);"
   ]
  }
 ],
 "metadata": {
  "kernelspec": {
   "display_name": ".NET (C#)",
   "language": "C#",
   "name": ".net-csharp"
  },
  "language_info": {
   "name": "C#"
  }
 },
 "nbformat": 4,
 "nbformat_minor": 2
}
