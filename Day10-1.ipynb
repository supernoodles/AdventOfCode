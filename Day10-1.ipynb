{
 "cells": [
  {
   "cell_type": "code",
   "execution_count": null,
   "metadata": {
    "dotnet_interactive": {
     "language": "csharp"
    }
   },
   "outputs": [],
   "source": [
    "using System;\n",
    "using System.Collections.Generic;\n",
    "using System.IO;\n",
    "using System.Linq;\n",
    "\n",
    "var data = File.ReadAllText(\"inputs/input_day10.txt\");"
   ]
  },
  {
   "cell_type": "code",
   "execution_count": null,
   "metadata": {
    "dotnet_interactive": {
     "language": "csharp"
    }
   },
   "outputs": [],
   "source": [
    "// Test data\n",
    "var data = \n",
    "@\"[({(<(())[]>[[{[]{<()<>>\n",
    "[(()[<>])]({[<{<<[]>>(\n",
    "{([(<{}[<>[]}>{[]{[(<()>\n",
    "(((({<>}<{<{<>}{[]{[]{}\n",
    "[[<[([]))<([[{}[[()]]]\n",
    "[{[{({}]{}}([{[{{{}}([]\n",
    "{<[[]]>}<{[{[{[]{()[[[]\n",
    "[<(<(<(<{}))><([]([]()\n",
    "<{([([[(<>()){}]>(<<{{\n",
    "<{([{{}}[<[[[<>{}]]]>[]]\";"
   ]
  },
  {
   "cell_type": "code",
   "execution_count": null,
   "metadata": {
    "dotnet_interactive": {
     "language": "csharp"
    }
   },
   "outputs": [],
   "source": [
    "var openBrackets = \"([{<\";\n",
    "var closeBrackets = \")]}>\";\n",
    "\n",
    "var illegalCharScore = new Dictionary<char,int> {\n",
    "    {')', 3},\n",
    "    {']', 57},\n",
    "    {'}', 1197},\n",
    "    {'>', 25137}\n",
    "};"
   ]
  },
  {
   "cell_type": "code",
   "execution_count": null,
   "metadata": {
    "dotnet_interactive": {
     "language": "csharp"
    }
   },
   "outputs": [
    {
     "name": "stdout",
     "output_type": "stream",
     "text": [
      "415953\n"
     ]
    }
   ],
   "source": [
    "var score = 0;\n",
    "\n",
    "using(var reader = new StringReader(data))\n",
    "{\n",
    "    string line;\n",
    "    while((line = reader.ReadLine()) != null)\n",
    "    {\n",
    "        var stack = new Stack<char>();\n",
    "\n",
    "        foreach(var ch in line)\n",
    "        {\n",
    "            if(openBrackets.Contains(ch))\n",
    "            {\n",
    "                stack.Push(ch);\n",
    "                continue;\n",
    "            }\n",
    "\n",
    "            var closeBracketType = closeBrackets.IndexOf(ch);\n",
    "\n",
    "            var openBracket = stack.Pop();\n",
    "\n",
    "            if(openBrackets.IndexOf(openBracket) != closeBracketType)\n",
    "            {\n",
    "                score += illegalCharScore[ch];    \n",
    "                break;\n",
    "            }\n",
    "        }\n",
    "    }\n",
    "}\n",
    "\n",
    "Console.WriteLine(score);"
   ]
  }
 ],
 "metadata": {
  "kernelspec": {
   "display_name": ".NET (C#)",
   "language": "C#",
   "name": ".net-csharp"
  },
  "language_info": {
   "name": "C#"
  }
 },
 "nbformat": 4,
 "nbformat_minor": 2
}
