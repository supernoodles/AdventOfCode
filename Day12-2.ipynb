{
 "cells": [
  {
   "cell_type": "code",
   "execution_count": null,
   "metadata": {
    "dotnet_interactive": {
     "language": "csharp"
    }
   },
   "outputs": [],
   "source": [
    "using System;\n",
    "using System.Collections.Generic;\n",
    "using System.IO;\n",
    "using System.Linq;\n",
    "\n",
    "var input = File.ReadAllText(\"inputs/input_day12.txt\");"
   ]
  },
  {
   "cell_type": "code",
   "execution_count": null,
   "metadata": {
    "dotnet_interactive": {
     "language": "csharp"
    }
   },
   "outputs": [],
   "source": [
    "var input1 =\n",
    "@\"start-A\n",
    "start-b\n",
    "A-c\n",
    "A-b\n",
    "b-d\n",
    "A-end\n",
    "b-end\";\n",
    "\n",
    "var input2 =\n",
    "@\"dc-end\n",
    "HN-start\n",
    "start-kj\n",
    "dc-start\n",
    "dc-HN\n",
    "LN-dc\n",
    "HN-end\n",
    "kj-sa\n",
    "kj-HN\n",
    "kj-dc\";\n",
    "\n",
    "var input3 =\n",
    "@\"fs-end\n",
    "he-DX\n",
    "fs-he\n",
    "start-DX\n",
    "pj-DX\n",
    "end-zg\n",
    "zg-sl\n",
    "zg-pj\n",
    "pj-he\n",
    "RW-he\n",
    "fs-DX\n",
    "pj-RW\n",
    "zg-RW\n",
    "start-pj\n",
    "he-WI\n",
    "zg-he\n",
    "pj-fs\n",
    "start-RW\";"
   ]
  },
  {
   "cell_type": "code",
   "execution_count": null,
   "metadata": {
    "dotnet_interactive": {
     "language": "csharp"
    }
   },
   "outputs": [],
   "source": [
    "var Paths = 0;\n",
    "\n",
    "Dictionary<string, List<string>> RoughMap;"
   ]
  },
  {
   "cell_type": "code",
   "execution_count": null,
   "metadata": {
    "dotnet_interactive": {
     "language": "csharp"
    }
   },
   "outputs": [],
   "source": [
    "void Parse(string input)\n",
    "{\n",
    "    RoughMap = new Dictionary<string, List<string>>();\n",
    "\n",
    "    input.Split(\"\\n\")\n",
    "        .Where(_ => !string.IsNullOrWhiteSpace(_))\n",
    "        .ToList()\n",
    "        .ForEach(line =>\n",
    "        {\n",
    "            var caves = line.Split('-');\n",
    "\n",
    "            var destinations = RoughMap.GetValueOrDefault(caves[0], new List<string>());\n",
    "            destinations.Add(caves[1]);\n",
    "            RoughMap[caves[0]] = destinations;\n",
    "\n",
    "            destinations = RoughMap.GetValueOrDefault(caves[1], new List<string>());\n",
    "            destinations.Add(caves[0]);\n",
    "            RoughMap[caves[1]] = destinations;\n",
    "        });\n",
    "}"
   ]
  },
  {
   "cell_type": "code",
   "execution_count": null,
   "metadata": {
    "dotnet_interactive": {
     "language": "csharp"
    }
   },
   "outputs": [],
   "source": [
    "bool CanVisit(List<string> path, string cave)\n",
    "{\n",
    "    var thisCaveInPath = path.Contains(cave);\n",
    "\n",
    "    var anySmallCaveTwiceInPath =\n",
    "        path\n",
    "            .Where(_ => _.All(ch => char.IsLower(ch)))\n",
    "            .GroupBy(_ => _)\n",
    "            .Any(_ => _.Count() == 2);\n",
    "\n",
    "    return !thisCaveInPath || !anySmallCaveTwiceInPath || (thisCaveInPath && !anySmallCaveTwiceInPath);\n",
    "}\n",
    "\n",
    "List<string> NewPathWithCave(List<string> path, string cave) =>\n",
    "    new List<string>(path.Select(_ => _))\n",
    "    {\n",
    "        cave\n",
    "    };\n",
    "\n",
    "void Recurse(List<string> pathSoFar, string currentCave)\n",
    "{\n",
    "    foreach (var cave in RoughMap[currentCave])\n",
    "    {\n",
    "        if(cave == \"start\")\n",
    "        {\n",
    "            continue;\n",
    "        }\n",
    "\n",
    "        if (cave == \"end\")\n",
    "        {\n",
    "            Paths++;\n",
    "\n",
    "            continue;\n",
    "        }\n",
    "\n",
    "        if (cave.Any(_ => char.IsUpper(_)) || CanVisit(pathSoFar, cave))\n",
    "        {\n",
    "            Recurse(NewPathWithCave(pathSoFar, cave), cave);\n",
    "        }\n",
    "    }\n",
    "}"
   ]
  },
  {
   "cell_type": "code",
   "execution_count": null,
   "metadata": {
    "dotnet_interactive": {
     "language": "csharp"
    }
   },
   "outputs": [
    {
     "name": "stdout",
     "output_type": "stream",
     "text": [
      "128506\r\n"
     ]
    }
   ],
   "source": [
    "Parse(input);\n",
    "\n",
    "Recurse(new List<string>() { \"start\" }, \"start\");\n",
    "\n",
    "Console.WriteLine(Paths);"
   ]
  }
 ],
 "metadata": {
  "kernelspec": {
   "display_name": ".NET (C#)",
   "language": "C#",
   "name": ".net-csharp"
  },
  "language_info": {
   "name": "C#"
  }
 },
 "nbformat": 4,
 "nbformat_minor": 2
}
