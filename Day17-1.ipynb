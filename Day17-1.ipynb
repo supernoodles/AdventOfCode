{
 "cells": [
  {
   "cell_type": "code",
   "execution_count": null,
   "metadata": {
    "dotnet_interactive": {
     "language": "csharp"
    }
   },
   "outputs": [],
   "source": [
    "using System;\n",
    "using System.Collections.Generic;\n",
    "using System.IO;\n",
    "using System.Linq;\n",
    "using System.Text.RegularExpressions;\n",
    "\n",
    "var data = File.ReadAllText(\"inputs/input_day17.txt\");"
   ]
  },
  {
   "cell_type": "code",
   "execution_count": null,
   "metadata": {
    "dotnet_interactive": {
     "language": "csharp"
    }
   },
   "outputs": [],
   "source": [
    "// Test data\n",
    "var dataT = \n",
    "@\"target area: x=20..30, y=-10..-5\";"
   ]
  },
  {
   "cell_type": "code",
   "execution_count": null,
   "metadata": {
    "dotnet_interactive": {
     "language": "csharp"
    }
   },
   "outputs": [],
   "source": [
    "var xMin = 20;\n",
    "var xMax = 30;\n",
    "var yMin = -10;\n",
    "var yMax = -5;\n",
    "\n",
    "var InTarget = (int x, int y) => x >= xMin && x <= xMax && y >= yMin && y <= yMax;\n",
    "\n",
    "var IsShort = (int x, int y) => x < xMin && y >= yMin;\n",
    "\n",
    "var IsLong = (int x, int y) => x > xMax && y >= yMin;"
   ]
  },
  {
   "cell_type": "code",
   "execution_count": null,
   "metadata": {
    "dotnet_interactive": {
     "language": "csharp"
    }
   },
   "outputs": [
    {
     "name": "stdout",
     "output_type": "stream",
     "text": [
      "x=6, y=10\n",
      "x=11, y=19\n",
      "x=15, y=27\n",
      "x=18, y=34\n",
      "x=20, y=40\n",
      "x=21, y=45\n",
      "x=21, y=49\n",
      "x=21, y=52\n",
      "x=21, y=54\n",
      "x=21, y=55\n",
      "x=21, y=55\n",
      "x=21, y=54\n",
      "x=21, y=52\n",
      "x=21, y=49\n",
      "x=21, y=45\n",
      "x=21, y=40\n",
      "x=21, y=34\n",
      "x=21, y=27\n",
      "x=21, y=19\n",
      "x=21, y=10\n",
      "x=21, y=0\n",
      "x=21, y=-11\n"
     ]
    }
   ],
   "source": [
    "int x = 0;\n",
    "int y = 0;\n",
    "\n",
    "int xVel = 6;\n",
    "int yVel = 10;\n",
    "\n",
    "int yMax = int.MinValue;\n",
    "\n",
    "while(!InTarget(x,y) && y > yMin)\n",
    "{\n",
    "    x += xVel;\n",
    "    y += yVel;\n",
    "\n",
    "    xVel = xVel > 0\n",
    "        ? xVel - 1\n",
    "        : xVel;\n",
    "\n",
    "    yVel -= 1;\n",
    "}"
   ]
  },
  {
   "cell_type": "code",
   "execution_count": null,
   "metadata": {
    "dotnet_interactive": {
     "language": "csharp"
    }
   },
   "outputs": [],
   "source": []
  }
 ],
 "metadata": {
  "kernelspec": {
   "display_name": ".NET (C#)",
   "language": "C#",
   "name": ".net-csharp"
  },
  "language_info": {
   "name": "C#"
  }
 },
 "nbformat": 4,
 "nbformat_minor": 2
}
