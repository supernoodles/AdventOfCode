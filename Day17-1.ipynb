{
 "cells": [
  {
   "cell_type": "code",
   "execution_count": null,
   "metadata": {
    "dotnet_interactive": {
     "language": "csharp"
    }
   },
   "outputs": [],
   "source": [
    "using System;\n",
    "using System.Collections.Generic;\n",
    "using System.IO;\n",
    "using System.Linq;\n",
    "using System.Text.RegularExpressions;\n",
    "\n",
    "var data = File.ReadAllText(\"inputs/input_day17.txt\");"
   ]
  },
  {
   "cell_type": "code",
   "execution_count": null,
   "metadata": {
    "dotnet_interactive": {
     "language": "csharp"
    }
   },
   "outputs": [],
   "source": [
    "// Test data\n",
    "var dataT = \n",
    "@\"target area: x=20..30, y=-10..-5\";"
   ]
  },
  {
   "cell_type": "code",
   "execution_count": null,
   "metadata": {
    "dotnet_interactive": {
     "language": "csharp"
    }
   },
   "outputs": [],
   "source": [
    "var xMin = 287;\n",
    "var xMax = 309;\n",
    "var yMin = -76;\n",
    "var yMax = -48;\n",
    "\n",
    "var InTarget = (int x, int y) => x >= xMin && x <= xMax && y >= yMin && y <= yMax;"
   ]
  },
  {
   "cell_type": "code",
   "execution_count": null,
   "metadata": {
    "dotnet_interactive": {
     "language": "csharp"
    }
   },
   "outputs": [],
   "source": [
    "int Calculate(int xVel, int yVel)\n",
    "{\n",
    "    int x = 0;\n",
    "    int y = 0;\n",
    "\n",
    "    int yMax = int.MinValue;\n",
    "\n",
    "    while(!InTarget(x, y) && y > yMin)\n",
    "    {\n",
    "        x += xVel;\n",
    "        y += yVel;\n",
    "\n",
    "        if(y > yMax)\n",
    "        {\n",
    "            yMax = y;\n",
    "        }\n",
    "\n",
    "        xVel = xVel > 0\n",
    "            ? xVel - 1\n",
    "            : xVel;\n",
    "\n",
    "        yVel -= 1;\n",
    "    }\n",
    "\n",
    "    return InTarget(x, y)\n",
    "        ? yMax\n",
    "        : 0;\n",
    "}"
   ]
  },
  {
   "cell_type": "code",
   "execution_count": null,
   "metadata": {
    "dotnet_interactive": {
     "language": "csharp"
    }
   },
   "outputs": [
    {
     "name": "stdout",
     "output_type": "stream",
     "text": [
      "2850\n"
     ]
    }
   ],
   "source": [
    "var highest = Enumerable.Range(1, 100)\n",
    "    .SelectMany(xVel =>\n",
    "            Enumerable.Range(1, 100)\n",
    "                .Select(yVel => Calculate(xVel, yVel))\n",
    "    )\n",
    "    .Max();\n",
    "\n",
    "Console.WriteLine(highest);"
   ]
  }
 ],
 "metadata": {
  "kernelspec": {
   "display_name": ".NET (C#)",
   "language": "C#",
   "name": ".net-csharp"
  },
  "language_info": {
   "name": "C#"
  }
 },
 "nbformat": 4,
 "nbformat_minor": 2
}
