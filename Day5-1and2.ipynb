{
 "cells": [
  {
   "cell_type": "code",
   "execution_count": null,
   "metadata": {
    "dotnet_interactive": {
     "language": "csharp"
    }
   },
   "outputs": [],
   "source": [
    "using System;\n",
    "using System.Collections.Generic;\n",
    "using System.IO;\n",
    "using System.Linq;\n",
    "using System.Text.RegularExpressions;\n",
    "\n",
    "var data = File.ReadAllText(\"inputs/input_day5.txt\");"
   ]
  },
  {
   "cell_type": "code",
   "execution_count": null,
   "metadata": {
    "dotnet_interactive": {
     "language": "csharp"
    }
   },
   "outputs": [],
   "source": [
    "var data = \n",
    "@\"0,9 -> 5,9\n",
    "8,0 -> 0,8\n",
    "9,4 -> 3,4\n",
    "2,2 -> 2,1\n",
    "7,0 -> 7,4\n",
    "6,4 -> 2,0\n",
    "0,9 -> 2,9\n",
    "3,4 -> 1,4\n",
    "0,0 -> 8,8\n",
    "5,5 -> 8,2\n",
    "\";"
   ]
  },
  {
   "cell_type": "code",
   "execution_count": null,
   "metadata": {
    "dotnet_interactive": {
     "language": "csharp"
    }
   },
   "outputs": [
    {
     "name": "stdout",
     "output_type": "stream",
     "text": [
      "21577\r\n"
     ]
    }
   ],
   "source": [
    "var matcher = new Regex(@\"^(\\d+),(\\d+) -> (\\d+),(\\d+)$\", RegexOptions.Compiled);\n",
    "\n",
    "var grid = new Dictionary<int,int>();\n",
    "\n",
    "using(var reader = new StringReader(data))\n",
    "{\n",
    "    string line;\n",
    "\n",
    "    while((line = reader.ReadLine()) != null)\n",
    "    {\n",
    "        var match = matcher.Match(line);\n",
    "\n",
    "        if(!match.Success)\n",
    "        {\n",
    "            continue;\n",
    "        }\n",
    "\n",
    "        var x = int.Parse(match.Groups[1].Value);\n",
    "        var y = int.Parse(match.Groups[2].Value);\n",
    "        var x2 = int.Parse(match.Groups[3].Value);\n",
    "        var y2 = int.Parse(match.Groups[4].Value);\n",
    "\n",
    "        var yStep = Math.Sign(y2 - y);\n",
    "        var xStep = Math.Sign(x2 - x);\n",
    "\n",
    "        do\n",
    "        {\n",
    "            var index = x + y * 1000;\n",
    "\n",
    "            if(!grid.ContainsKey(index))\n",
    "            {\n",
    "                grid.Add(index, 0);\n",
    "            }\n",
    "            \n",
    "            grid[index] += 1;\n",
    "\n",
    "            x += xStep;\n",
    "            y += yStep;\n",
    "        } while ((x != x2 + xStep) || (y != y2 + yStep));\n",
    "    }\n",
    "}\n",
    "\n",
    "Console.WriteLine(grid.Values.Where(_ => _ > 1).Count());"
   ]
  }
 ],
 "metadata": {
  "kernelspec": {
   "display_name": ".NET (C#)",
   "language": "C#",
   "name": ".net-csharp"
  },
  "language_info": {
   "name": "C#"
  }
 },
 "nbformat": 4,
 "nbformat_minor": 2
}
